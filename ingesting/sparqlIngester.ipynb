{
 "cells": [
  {
   "cell_type": "markdown",
   "metadata": {},
   "source": [
    "# Padova Grand Tour - Sparql Ingester\n",
    "\n",
    "This notebook will generate a `sparql.ttl` turtle file with the data obtained by the `sparql/SparqlRetriever.ipynb` notebook."
   ]
  },
  {
   "cell_type": "markdown",
   "metadata": {},
   "source": [
    "Setup graph:"
   ]
  },
  {
   "cell_type": "code",
   "execution_count": 15,
   "metadata": {
    "execution": {
     "iopub.execute_input": "2022-11-23T10:55:19.633265Z",
     "iopub.status.busy": "2022-11-23T10:55:19.632285Z",
     "iopub.status.idle": "2022-11-23T10:55:19.783204Z",
     "shell.execute_reply": "2022-11-23T10:55:19.781620Z"
    }
   },
   "outputs": [],
   "source": [
    "import os, re\n",
    "from pathlib import Path\n",
    "\n",
    "from rdflib import Graph, Literal, RDF, URIRef, Namespace\n",
    "# rdflib knows about some namespaces, like FOAF, XSD, schema.org\n",
    "from rdflib.namespace import FOAF, XSD, SDO\n",
    "from rdflib.collection import Collection\n",
    "\n",
    "# Main namespace\n",
    "PGT = Namespace(\"https://padovagrandtour.github.io/entities#\")\n",
    "# Be careful! the \"simple GEO\" namespace is not the same as the \"advanced GEO\" namespace exported by rdflib\n",
    "GEO = Namespace(\"http://www.w3.org/2003/01/geo/wgs84_pos#\")\n",
    "\n",
    "# Saving folder\n",
    "path = str(Path(os.path.abspath((os.getcwd()))).parent)\n",
    "savePath =  path + \"/data/ttlData/\"\n",
    "os.makedirs(savePath, exist_ok=True)\n",
    "\n",
    "\n",
    "# Bind namespaces\n",
    "g = Graph()\n",
    "\n",
    "g.bind(\"foaf\", FOAF)\n",
    "g.bind(\"xsd\", XSD)\n",
    "g.bind(\"pgt\", PGT)\n",
    "g.bind(\"sdo\", SDO)\n",
    "g.bind(\"geo\", GEO)\n"
   ]
  },
  {
   "cell_type": "code",
   "execution_count": 16,
   "metadata": {
    "execution": {
     "iopub.execute_input": "2022-11-23T10:55:19.792933Z",
     "iopub.status.busy": "2022-11-23T10:55:19.791960Z",
     "iopub.status.idle": "2022-11-23T10:55:19.990206Z",
     "shell.execute_reply": "2022-11-23T10:55:19.987749Z"
    }
   },
   "outputs": [],
   "source": [
    "import json\n",
    "# Read Json files\n",
    "with open(path + '/sparql/artworkCategories.json') as f:\n",
    "    artworkCategoriesJSON = json.load(f)\n",
    "\n",
    "with open(path + '/sparql/artworkList.json') as f:\n",
    "    artworkListJSON = json.load(f)\n",
    "\n",
    "with open(path + '/sparql/artworkProperties.json') as f:\n",
    "    artworkPropertiesJSON = json.load(f)\n",
    "\n",
    "with open(path + '/sparql/siteList.json') as f:\n",
    "    siteListJSON = json.load(f)\n",
    "\n",
    "with open(path + '/sparql/siteProperties.json') as f:\n",
    "    sitePropertiesJSON = json.load(f)\n",
    "\n",
    "\n"
   ]
  },
  {
   "cell_type": "code",
   "execution_count": 17,
   "metadata": {
    "execution": {
     "iopub.execute_input": "2022-11-23T10:55:20.007458Z",
     "iopub.status.busy": "2022-11-23T10:55:20.001477Z",
     "iopub.status.idle": "2022-11-23T10:55:20.034259Z",
     "shell.execute_reply": "2022-11-23T10:55:20.031808Z"
    }
   },
   "outputs": [],
   "source": [
    "# Add to graph while doing standard normalizations\n",
    "def addToG(subject, predicate, obj, key, datatype):\n",
    "    try: # Catch keyerrors\n",
    "        if(obj[key] == obj[key]):   # check for NaN values\n",
    "            if(datatype == XSD.string):\n",
    "                g.add((subject, predicate, Literal(obj[key].strip(), datatype=datatype)))   \n",
    "            elif(datatype == XSD.float):\n",
    "                if( obj[key].strip().replace(\",\", \".\") == '8-11'):\n",
    "                    g.add((subject, predicate, Literal(\"9.5\", datatype=datatype)))   \n",
    "                elif( obj[key].strip().replace(\",\", \".\") == '16-23'):\n",
    "                    g.add((subject, predicate, Literal(\"19.5\", datatype=datatype)))   \n",
    "                else:\n",
    "                    # change italian commas , to international point . for number\n",
    "                    g.add((subject, predicate, Literal(obj[key].strip().replace(\",\", \".\"), datatype=datatype)))   \n",
    "            else:\n",
    "                g.add((subject, predicate, Literal(obj[key], datatype=datatype)))    \n",
    "    except Exception as e:\n",
    "        pass\n"
   ]
  },
  {
   "cell_type": "code",
   "execution_count": 18,
   "metadata": {
    "execution": {
     "iopub.execute_input": "2022-11-23T10:55:20.050008Z",
     "iopub.status.busy": "2022-11-23T10:55:20.048225Z",
     "iopub.status.idle": "2022-11-23T10:55:20.142227Z",
     "shell.execute_reply": "2022-11-23T10:55:20.140203Z"
    }
   },
   "outputs": [
    {
     "name": "stdout",
     "output_type": "stream",
     "text": [
      "inserting http://dati.beniculturali.it/iccd/cf/resource/CulturalInstituteOrSite/1469799782221 Palazzo Folco\n",
      "inserting https://w3id.org/arco/resource/Site/7cd721378d4eed24c5285df08594b4fc Palazzo Dolco\n",
      "inserting http://dati.beniculturali.it/iccd/cf/resource/CulturalInstituteOrSite/1469744914369 Convento degli Eremitani\n",
      "inserting https://w3id.org/arco/resource/Site/62a37ce270999c1ee4b1ba1cb472939b Università di Padova\n",
      "inserting http://dati.beniculturali.it/iccd/cf/resource/CulturalInstituteOrSite/ICCD_CF_8076015143451 Palazzina del prefetto (ex)\n",
      "inserting http://dati.beniculturali.it/iccd/cf/resource/CulturalInstituteOrSite/ICCD_CF_6156344978451 Complesso Ingegneria\n",
      "inserting http://dati.beniculturali.it/iccd/cf/resource/CulturalInstituteOrSite/ICCD_CF_4223302714451 Palazzo ECA (ex)\n",
      "inserting http://dati.beniculturali.it/iccd/cf/resource/CulturalInstituteOrSite/ICCD_CF_0160885714451 Complesso Cavalli\n",
      "skipping (already inserted) Complesso Cavalli\n",
      "inserting http://dati.beniculturali.it/iccd/cf/resource/CulturalInstituteOrSite/ICCD_CF_6551585915161 Palazzo Wollemborg\n"
     ]
    }
   ],
   "source": [
    "museumURLDict = {}\n",
    "museumNameDict = {}\n",
    "\n",
    "\n",
    "SITEindex = 0\n",
    "\n",
    "\n",
    "\n",
    "\n",
    "for museumURL, siteData in sitePropertiesJSON.items():\n",
    "    museumData = {}\n",
    "    for [akey, aval] in siteData[0]:\n",
    "        museumData[akey] = aval\n",
    "    \n",
    "    if(museumData['name'] in museumNameDict.keys()):\n",
    "        print(\"skipping (already inserted)\", museumData['name'])\n",
    "        museumURLDict[museumURL] = museumNameDict[museumData['name']]\n",
    "    else:\n",
    "\n",
    "        # Setup museum node\n",
    "        museumURLDict[museumURL] = \"SITEsq\" +  str(SITEindex)\n",
    "        museumNameDict[museumData['name']] = \"SITEsq\" +  str(SITEindex)\n",
    "        print(\"inserting\", museumURL, museumData['name'])\n",
    "        Museum = URIRef(PGT[\"SITEsq\" +  str(SITEindex)])\n",
    "        SITEindex = SITEindex + 1\n",
    "        g.add((Museum, RDF.type, PGT.CulturalSite))\n",
    "\n",
    "        # Add museum properties\n",
    "        g.add((Museum, SDO.url, Literal(museumURL, datatype=SDO.URL)))  \n",
    "        addToG(Museum, SDO.name, museumData, 'name', datatype=XSD.string)\n",
    "        addToG(Museum, SDO.description, museumData, 'desc', datatype=RDF.HTML)\n",
    "        addToG(Museum, SDO.image, museumData, 'img', datatype=SDO.URL)\n",
    "        addToG(Museum, GEO['lat'], museumData, 'lat', datatype=XSD.float)\n",
    "        addToG(Museum, GEO['long'], museumData, 'long', datatype=XSD.float)\n",
    "\n"
   ]
  },
  {
   "cell_type": "code",
   "execution_count": 19,
   "metadata": {
    "execution": {
     "iopub.execute_input": "2022-11-23T10:55:20.150466Z",
     "iopub.status.busy": "2022-11-23T10:55:20.149093Z",
     "iopub.status.idle": "2022-11-23T10:55:20.175122Z",
     "shell.execute_reply": "2022-11-23T10:55:20.170079Z"
    }
   },
   "outputs": [],
   "source": [
    "def parseDate(date):\n",
    "    date = date.replace('(?)', '')\n",
    "    date = date.replace('ca', '')\n",
    "    date = date.replace('post', '')\n",
    "    date = date.replace('ante', '')\n",
    "    date = date.replace(' ', '')\n",
    "   \n",
    "\n",
    "    #undetermined or missing\n",
    "    if (date == ''): return float('nan')\n",
    "\n",
    "    # special encoded values\n",
    "    if (date == 'XIIIsec.a.C-Xsec.a.C'): return -1100\n",
    "    if (date == 'Vsec.a.C-IVsec.a.C'): return -400\n",
    "    if (date == '4500a.C-3400'): return -4000\n",
    "\n",
    "\n",
    "    \n",
    "    m = re.search('^([0-9]+?)\\-([0-9]+?)$', date)\n",
    "    if m: return ((int(m.group(1)) + int(m.group(2)) )/2)\n",
    "\n",
    "    m = re.search('^([0-9]+?)a\\.C\\-([0-9]+?)a\\.C$', date)\n",
    "    if m: return ((int(m.group(1)) + int(m.group(2)) )/-2)\n",
    "\n",
    "    m = re.search('^([0-9]+?)\\/[0-9]+?\\/[0-9]+?\\-([0-9]+?)\\/[0-9]+?\\/[0-9]+?$', date)\n",
    "    if m: return ((int(m.group(1)) + int(m.group(2)) )/2)\n",
    "\n",
    "\n",
    "\n",
    "    m = re.search('^([0-9]+?)$', date)\n",
    "    if m: return ((int(m.group(1)) ))\n",
    "\n",
    "\n",
    "    # if no matches, print an error\n",
    "    print(\"[ERROR] \" + date)\n"
   ]
  },
  {
   "cell_type": "code",
   "execution_count": 20,
   "metadata": {
    "execution": {
     "iopub.execute_input": "2022-11-23T10:55:20.186895Z",
     "iopub.status.busy": "2022-11-23T10:55:20.185535Z",
     "iopub.status.idle": "2022-11-23T10:55:24.502465Z",
     "shell.execute_reply": "2022-11-23T10:55:24.501055Z"
    }
   },
   "outputs": [],
   "source": [
    "\n",
    "\n",
    "\n",
    "\n",
    "\n",
    "ARTWORKindex = 0\n",
    "\n",
    "\n",
    "for artworkURL, artworkRawData in artworkPropertiesJSON.items():\n",
    "    artworkData = {}\n",
    "    for [akey, aval] in artworkRawData[0]:\n",
    "        artworkData[akey] = aval\n",
    "   \n",
    "\n",
    "    # Setup museum node\n",
    "    Artwork = URIRef(PGT[\"ARTWORKsq\" +  str(ARTWORKindex)])\n",
    "    ARTWORKindex = ARTWORKindex + 1\n",
    "    g.add((Artwork, RDF.type, PGT.Artwork))\n",
    "\n",
    "    # Add museum properties\n",
    "    g.add((Artwork, SDO.url, Literal(artworkURL, datatype=SDO.URL)))  \n",
    "    addToG(Artwork, SDO.name, artworkData, 'name', datatype=XSD.string)\n",
    "\n",
    "    # Description (just pick the longest one)\n",
    "    bestDesc = \"\"\n",
    "    if((\"desc\" in artworkData) and (artworkData['desc'] == artworkData['desc']) and len(artworkData['desc']) > len(bestDesc)):\n",
    "        bestDesc = artworkData['desc']\n",
    "    \n",
    "    if((\"desc2\" in artworkData) and (artworkData['desc2'] == artworkData['desc2']) and len(artworkData['desc2']) > len(bestDesc)):\n",
    "        bestDesc = artworkData['desc2']\n",
    "\n",
    "    if((\"desc3\" in artworkData) and (artworkData['desc3'] == artworkData['desc3']) and len(artworkData['desc3']) > len(bestDesc)):\n",
    "        bestDesc = artworkData['desc3']\n",
    "\n",
    "    if(len(bestDesc) > 0): g.add((Artwork, SDO.description, Literal(bestDesc, datatype=RDF.HTML)))  \n",
    "\n",
    "\n",
    "    # Img (just pick the longest one)\n",
    "    bestImg = \"\"\n",
    "    if((\"img\" in artworkData) and (artworkData['img'] == artworkData['img']) and len(artworkData['img']) > len(bestImg)):\n",
    "        bestImg = artworkData['img']\n",
    "    \n",
    "    if((\"img2\" in artworkData) and (artworkData['img2'] == artworkData['img2']) and len(artworkData['img2']) > len(bestImg)):\n",
    "        bestImg = artworkData['img2']\n",
    "\n",
    "    if((\"img3\" in artworkData) and (artworkData['img3'] == artworkData['img3']) and len(artworkData['img3']) > len(bestImg)):\n",
    "        bestImg = artworkData['img3']\n",
    "\n",
    "    if(len(bestImg) > 0): g.add((Artwork, SDO.image, Literal(bestImg, datatype=SDO.URL)))  \n",
    "\n",
    "    # This will never fail, due to the way we selected the data in the first place\n",
    "    # i.e., we are just considering artwork with an existing site in Padova \n",
    "    g.add((Artwork, PGT['hasSite'], URIRef(PGT[museumURLDict[artworkData['site']]])))\n",
    "\n",
    "    addToG(Artwork, PGT['conservationState'], artworkData, 'conservation', datatype=XSD.string)\n",
    "    addToG(Artwork, SDO.material, artworkData, 'material', datatype=XSD.string)\n",
    "\n",
    "    if(('tag' in artworkData) and (artworkData['tag'] == artworkData['tag']) and (len(artworkData['tag']) > 0)):\n",
    "        g.add((Artwork, PGT['tag'], Literal(artworkData['tag'].strip().lower().replace(\"/ \", \"/\"), datatype=XSD.string)))  \n",
    "\n",
    "    addToG(Artwork, PGT['width'], artworkData, 'width', datatype=XSD.float)\n",
    "    addToG(Artwork, PGT['length'], artworkData, 'length', datatype=XSD.float)\n",
    "    addToG(Artwork, PGT['height'], artworkData, 'height', datatype=XSD.float)\n",
    "    addToG(Artwork, PGT['diameter'], artworkData, 'diameter', datatype=XSD.float)\n",
    "    addToG(Artwork, PGT['thickness'], artworkData, 'thickness', datatype=XSD.float)\n",
    "    addToG(Artwork, PGT['depth'], artworkData, 'depth', datatype=XSD.float)\n",
    "\n",
    "    if(('date' in artworkData) and (artworkData['date'] == artworkData['date']) and (len(artworkData['date']) > 0)):\n",
    "        parsedDate = parseDate(artworkData['date'])\n",
    "        if( parsedDate == parsedDate):\n",
    "            g.add((Artwork, PGT['yearCreatedText'], Literal(artworkData['date'], datatype=XSD.string)))\n",
    "            g.add((Artwork, PGT['yearCreated'], Literal(round(parsedDate), datatype=XSD.int)))\n",
    "\n",
    "\n"
   ]
  },
  {
   "cell_type": "code",
   "execution_count": 21,
   "metadata": {
    "execution": {
     "iopub.execute_input": "2022-11-23T10:55:24.510710Z",
     "iopub.status.busy": "2022-11-23T10:55:24.510022Z",
     "iopub.status.idle": "2022-11-23T10:55:27.066284Z",
     "shell.execute_reply": "2022-11-23T10:55:27.064990Z"
    }
   },
   "outputs": [
    {
     "data": {
      "text/plain": [
       "<Graph identifier=N7fea646de2654d5b8448ed0b57cba2d3 (<class 'rdflib.graph.Graph'>)>"
      ]
     },
     "execution_count": 21,
     "metadata": {},
     "output_type": "execute_result"
    }
   ],
   "source": [
    "\n",
    "\n",
    "g.serialize(destination=savePath+\"sparql.ttl\", format='turtle')\n"
   ]
  }
 ],
 "metadata": {
  "kernelspec": {
   "display_name": "Python 3.10.6 64-bit",
   "language": "python",
   "name": "python3"
  },
  "language_info": {
   "codemirror_mode": {
    "name": "ipython",
    "version": 3
   },
   "file_extension": ".py",
   "mimetype": "text/x-python",
   "name": "python",
   "nbconvert_exporter": "python",
   "pygments_lexer": "ipython3",
   "version": "3.10.6"
  },
  "vscode": {
   "interpreter": {
    "hash": "916dbcbb3f70747c44a77c7bcd40155683ae19c65e1c03b4aa3499c5328201f1"
   }
  }
 },
 "nbformat": 4,
 "nbformat_minor": 2
}
