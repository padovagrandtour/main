{
 "cells": [
  {
   "cell_type": "markdown",
   "metadata": {},
   "source": [
    "# Padova Grand Tour - Tours generator\n",
    "\n",
    "This notebook will generate a `tours.ttl` turtle file with some demo tours."
   ]
  },
  {
   "cell_type": "markdown",
   "metadata": {},
   "source": [
    "Setup graph:"
   ]
  },
  {
   "cell_type": "code",
   "execution_count": 1,
   "metadata": {
    "execution": {
     "iopub.execute_input": "2022-11-23T10:55:29.574393Z",
     "iopub.status.busy": "2022-11-23T10:55:29.573186Z",
     "iopub.status.idle": "2022-11-23T10:55:29.716183Z",
     "shell.execute_reply": "2022-11-23T10:55:29.715008Z"
    }
   },
   "outputs": [],
   "source": [
    "import os\n",
    "from pathlib import Path\n",
    "\n",
    "from rdflib import Graph, Literal, RDF, URIRef, Namespace\n",
    "# rdflib knows about some namespaces, like FOAF, XSD, schema.org\n",
    "from rdflib.namespace import FOAF, XSD, SDO\n",
    "from rdflib.collection import Collection\n",
    "\n",
    "# Main namespace\n",
    "PGT = Namespace(\"https://padovagrandtour.github.io/entities#\")\n",
    "\n",
    "\n",
    "# Saving folder\n",
    "path = str(Path(os.path.abspath((os.getcwd()))).parent)\n",
    "savePath =  path + \"/data/ttlData/\"\n",
    "os.makedirs(savePath, exist_ok=True)\n",
    "\n",
    "\n",
    "# Bind namespaces\n",
    "g = Graph()\n",
    "\n",
    "g.bind(\"foaf\", FOAF)\n",
    "g.bind(\"xsd\", XSD)\n",
    "g.bind(\"pgt\", PGT)\n",
    "\n",
    "g.bind(\"sdo\", SDO)"
   ]
  },
  {
   "cell_type": "code",
   "execution_count": 2,
   "metadata": {},
   "outputs": [],
   "source": [
    "# OLD CODE (WHEN WE USED rdf:List AND NOT rdf:Seq)\n",
    "\n",
    "#collectionNode = URIRef(PGT[\"ARTWORK\" +  str(ARTWORKindex) + \"TAGS\"])\n",
    "#collection = g.collection(collectionNode)\n",
    "#print(\"ARTWORK\" +  str(ARTWORKindex) + \"TAGS\", [x for x in row['tags']] )\n",
    "#collection += [Literal(x) for x in row['tags']]\n",
    "#g.add((Artwork, PGT['tags'],  collectionNode))\n",
    "\n",
    "# g.add((Artwork, PGT['tags'], Literal(row['tags'], datatype=XSD.string))) \n"
   ]
  },
  {
   "cell_type": "code",
   "execution_count": 3,
   "metadata": {
    "execution": {
     "iopub.execute_input": "2022-11-23T10:55:29.723984Z",
     "iopub.status.busy": "2022-11-23T10:55:29.723019Z",
     "iopub.status.idle": "2022-11-23T10:55:29.784011Z",
     "shell.execute_reply": "2022-11-23T10:55:29.782618Z"
    }
   },
   "outputs": [
    {
     "data": {
      "text/plain": [
       "<Graph identifier=Nc104f656ad6c4f91ab93d9891d018a84 (<class 'rdflib.graph.Graph'>)>"
      ]
     },
     "execution_count": 3,
     "metadata": {},
     "output_type": "execute_result"
    }
   ],
   "source": [
    "import uuid\n",
    "import random\n",
    "\n",
    "rd = random.Random()\n",
    "rd.seed(143)\n",
    "\n",
    "\n",
    "\n",
    "def addSteps(tourNode, tourSteps):\n",
    "    for idx, tourStep in enumerate(tourSteps):\n",
    "       g.add((tourNode, RDF['_' + str(idx + 1)], PGT['SITE' + str(tourStep)]))  \n",
    " \n",
    "\n",
    "\n",
    "def addTour(tourName, tourList, tourDescription):\n",
    "    tourCode = str(uuid.UUID(int=rd.getrandbits(128)))\n",
    "    Tour = URIRef(PGT[\"TOUR-\" + tourCode])\n",
    "    TourSteps = URIRef(PGT[\"TOURSTEPS-\" + tourCode ])\n",
    "\n",
    "    g.add((Tour, RDF.type, PGT.Tour))\n",
    "    g.add((TourSteps, RDF.type, RDF.Seq))\n",
    "    g.add((Tour, SDO.name, Literal(tourName, datatype=XSD.string)))  \n",
    "    g.add((Tour, SDO.description, Literal(tourDescription, datatype=RDF.HTML)))  \n",
    "\n",
    "    g.add((Tour, PGT['steps'], TourSteps))  \n",
    "    addSteps(TourSteps, tourList)\n",
    "\n",
    "\n",
    "\n",
    "\n",
    "addTour(\"Tour 1\", [1,2,3,4,5,6,7,8,9,10,11,12,13,14,15],\n",
    "    \"A beautiful tour. <br> It goes to the first 15 sites.\")\n",
    "\n",
    "\n",
    "addTour(\"Tour 2\", [4,63,\"sq6\",\"sq2\"],\n",
    "    \"A tour involving sites from the 'Ministero dei Beni Culturali' sparql endpoint.\")\n",
    "\n",
    "\n",
    "\n",
    "addTour(\"Tour Churces\", [41, 43, 45, 47],\n",
    "    \"A tour involving churces.\")\n",
    "\n",
    "\n",
    "\n",
    "\n",
    "\n",
    "g.serialize(destination=savePath+\"tours.ttl\", format='turtle')\n"
   ]
  }
 ],
 "metadata": {
  "kernelspec": {
   "display_name": "Python 3.10.6 64-bit",
   "language": "python",
   "name": "python3"
  },
  "language_info": {
   "codemirror_mode": {
    "name": "ipython",
    "version": 3
   },
   "file_extension": ".py",
   "mimetype": "text/x-python",
   "name": "python",
   "nbconvert_exporter": "python",
   "pygments_lexer": "ipython3",
   "version": "3.10.6"
  },
  "vscode": {
   "interpreter": {
    "hash": "916dbcbb3f70747c44a77c7bcd40155683ae19c65e1c03b4aa3499c5328201f1"
   }
  }
 },
 "nbformat": 4,
 "nbformat_minor": 2
}
