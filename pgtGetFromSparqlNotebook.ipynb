{
 "cells": [
  {
   "cell_type": "code",
   "execution_count": 6,
   "metadata": {},
   "outputs": [],
   "source": [
    "\n",
    "from SPARQLWrapper import SPARQLWrapper, JSON\n",
    "\n",
    "\n",
    "prefixString = \"\"\"\n",
    "##-d47addd645-##\n",
    "PREFIX rdf: <http://www.w3.org/1999/02/22-rdf-syntax-ns#>\n",
    "PREFIX wd: <http://www.wikidata.org/entity/> \n",
    "PREFIX wdt: <http://www.wikidata.org/prop/direct/> \n",
    "PREFIX sc: <http://schema.org/>\n",
    "\"\"\"\n",
    "\n",
    "# select and construct queries\n",
    "def run_query(queryString,verbose = True):\n",
    "    to_run = prefixString + \"\\n\" + queryString\n",
    "\n",
    "    sparql = SPARQLWrapper(\"https://dati.cultura.gov.it/sparql\")\n",
    "    sparql.setTimeout(300)\n",
    "    sparql.setReturnFormat(JSON)\n",
    "    sparql.setQuery(to_run)\n",
    "\n",
    "    try :\n",
    "        results = sparql.query()\n",
    "        json_results = results.convert()\n",
    "        if len(json_results['results']['bindings'])==0:\n",
    "            print(\"Empty\")\n",
    "            return []\n",
    "        array = []\n",
    "        for bindings in json_results['results']['bindings']:\n",
    "            app =  [ (var, value['value'])  for var, value in bindings.items() ] \n",
    "            array.append(app)\n",
    "        return array\n",
    "\n",
    "    except Exception as e :\n",
    "        print(\"The operation failed\", e)\n",
    "    "
   ]
  },
  {
   "cell_type": "code",
   "execution_count": 11,
   "metadata": {},
   "outputs": [
    {
     "name": "stdout",
     "output_type": "stream",
     "text": [
      "The operation failed EndPointInternalError: The endpoint returned the HTTP status code 500. \n",
      "\n",
      "Response:\n",
      "b'Virtuoso S1T00 Error SR171: Transaction timed out\\n\\nSPARQL query:\\n\\n##-d47addd645-##\\nPREFIX wd: <http://www.wikidata.org/entity/> \\nPREFIX wdt: <http://www.wikidata.org/prop/direct/> \\nPREFIX sc: <http://schema.org/>\\n\\n\\nselect distinct * where {\\n  ?s ?p ?o\\n  FILTER regex(?s, \"Padova\")\\n}\\nLIMIT 600\\n'\n"
     ]
    },
    {
     "ename": "TypeError",
     "evalue": "object of type 'NoneType' has no len()",
     "output_type": "error",
     "traceback": [
      "\u001b[0;31m---------------------------------------------------------------------------\u001b[0m",
      "\u001b[0;31mTypeError\u001b[0m                                 Traceback (most recent call last)",
      "\u001b[0;32m/tmp/ipykernel_8735/2562682581.py\u001b[0m in \u001b[0;36m<module>\u001b[0;34m\u001b[0m\n\u001b[1;32m      7\u001b[0m \"\"\")\n\u001b[1;32m      8\u001b[0m \u001b[0;34m\u001b[0m\u001b[0m\n\u001b[0;32m----> 9\u001b[0;31m \u001b[0mprint\u001b[0m\u001b[0;34m(\u001b[0m\u001b[0mlen\u001b[0m\u001b[0;34m(\u001b[0m\u001b[0ma\u001b[0m\u001b[0;34m)\u001b[0m\u001b[0;34m)\u001b[0m\u001b[0;34m\u001b[0m\u001b[0;34m\u001b[0m\u001b[0m\n\u001b[0m\u001b[1;32m     10\u001b[0m \u001b[0ma\u001b[0m\u001b[0;34m\u001b[0m\u001b[0;34m\u001b[0m\u001b[0m\n",
      "\u001b[0;31mTypeError\u001b[0m: object of type 'NoneType' has no len()"
     ]
    }
   ],
   "source": [
    "a = run_query(\"\"\"\n",
    "select distinct * where {\n",
    "  ?s ?p ?o\n",
    "  FILTER regex(?s, \"Padova\")\n",
    "}\n",
    "LIMIT 600\n",
    "\"\"\")\n",
    "\n",
    "print(len(a))\n",
    "a\n"
   ]
  },
  {
   "cell_type": "code",
   "execution_count": 14,
   "metadata": {},
   "outputs": [
    {
     "name": "stdout",
     "output_type": "stream",
     "text": [
      "100\n"
     ]
    },
    {
     "data": {
      "text/plain": [
       "[[('s',\n",
       "   'http://dati.beniculturali.it/mibact/luoghi/resource/City/Spilimbergo')],\n",
       " [('s', 'https://w3id.org/arco/resource/City/fontaniva')],\n",
       " [('s', 'https://w3id.org/arco/resource/City/vergato')],\n",
       " [('s', 'https://w3id.org/arco/resource/City/san-genesio-ed-uniti')],\n",
       " [('s', 'https://w3id.org/arco/resource/City/tovo-di-santagata')],\n",
       " [('s', 'https://w3id.org/arco/resource/City/cernusco-sul-naviglio')],\n",
       " [('s', 'https://w3id.org/arco/resource/City/albano-laziale')],\n",
       " [('s', 'https://w3id.org/arco/resource/City/azzano-dasti')],\n",
       " [('s', 'https://w3id.org/arco/resource/City/castegnero')],\n",
       " [('s', 'https://w3id.org/arco/resource/City/rocchetta-tanaro')],\n",
       " [('s', 'https://w3id.org/arco/resource/City/san-giorgio-di-piano')],\n",
       " [('s', 'https://w3id.org/arco/resource/City/santa-giustina-in-colle')],\n",
       " [('s', 'https://w3id.org/arco/resource/City/tavullia')],\n",
       " [('s', 'https://w3id.org/arco/resource/City/vinchio')],\n",
       " [('s', 'https://w3id.org/arco/resource/City/fratte-rosa')],\n",
       " [('s', 'https://w3id.org/arco/resource/City/santagata-feltria')],\n",
       " [('s', 'https://w3id.org/arco/resource/City/appignano-del-tronto')],\n",
       " [('s', 'https://w3id.org/arco/resource/City/castelnovo-bariano')],\n",
       " [('s', 'https://w3id.org/arco/resource/City/san-zeno-di-montagna')],\n",
       " [('s', 'https://w3id.org/arco/resource/City/polcenigo')],\n",
       " [('s', 'https://w3id.org/arco/resource/City/cerreto-guidi')],\n",
       " [('s', 'https://w3id.org/arco/resource/City/fagnano-castello')],\n",
       " [('s', 'https://w3id.org/arco/resource/City/lula')],\n",
       " [('s', 'https://w3id.org/arco/resource/City/poggio-sannita')],\n",
       " [('s', 'https://w3id.org/arco/resource/City/samugheo')],\n",
       " [('s', 'https://w3id.org/arco/resource/City/sarule')],\n",
       " [('s', 'https://w3id.org/arco/resource/City/mandello-del-lario')],\n",
       " [('s', 'https://w3id.org/arco/resource/City/bagnolo-san-vito')],\n",
       " [('s', 'https://w3id.org/arco/resource/City/brunello')],\n",
       " [('s', 'https://w3id.org/arco/resource/City/casalzuigno')],\n",
       " [('s', 'https://w3id.org/arco/resource/City/castellanza')],\n",
       " [('s', 'https://w3id.org/arco/resource/City/gavirate')],\n",
       " [('s', 'https://w3id.org/arco/resource/City/san-giovanni-valdarno')],\n",
       " [('s', 'https://w3id.org/arco/resource/City/solbiate-arno')],\n",
       " [('s', 'https://w3id.org/arco/resource/City/sumirago')],\n",
       " [('s', 'https://w3id.org/arco/resource/City/vimodrone')],\n",
       " [('s', 'https://w3id.org/arco/resource/City/abbadia-lariana')],\n",
       " [('s', 'https://w3id.org/arco/resource/City/cardano-al-campo')],\n",
       " [('s', 'https://w3id.org/arco/resource/City/casorate-sempione')],\n",
       " [('s', 'https://w3id.org/arco/resource/City/gorla-minore')],\n",
       " [('s', 'https://w3id.org/arco/resource/City/borgoforte')],\n",
       " [('s', 'https://w3id.org/arco/resource/City/cantello')],\n",
       " [('s', 'https://w3id.org/arco/resource/City/daverio')],\n",
       " [('s', 'https://w3id.org/arco/resource/City/fiera-di-primiero')],\n",
       " [('s', 'https://w3id.org/arco/resource/City/gagnago')],\n",
       " [('s', 'https://w3id.org/arco/resource/City/ostia-antica')],\n",
       " [('s', 'https://w3id.org/arco/resource/City/roccaromana')],\n",
       " [('s', 'https://w3id.org/arco/resource/City/san-gregorio-matese')],\n",
       " [('s', 'https://w3id.org/arco/resource/City/santarpino')],\n",
       " [('s', 'https://w3id.org/arco/resource/City/sparanise')],\n",
       " [('s', 'https://w3id.org/arco/resource/City/torre-del-greco')],\n",
       " [('s', 'https://w3id.org/arco/resource/City/villa-literno')],\n",
       " [('s', 'https://w3id.org/arco/resource/City/apice')],\n",
       " [('s', 'https://w3id.org/arco/resource/City/arpaise')],\n",
       " [('s', 'https://w3id.org/arco/resource/City/baia-e-latina')],\n",
       " [('s', 'https://w3id.org/arco/resource/City/capodrise')],\n",
       " [('s', 'https://w3id.org/arco/resource/City/castel-volturno')],\n",
       " [('s', 'https://w3id.org/arco/resource/City/castelvetere-in-val-fortore')],\n",
       " [('s', 'https://w3id.org/arco/resource/City/cellole')],\n",
       " [('s', 'https://w3id.org/arco/resource/City/cerreto-sannita')],\n",
       " [('s', 'https://w3id.org/arco/resource/City/colle-sannita')],\n",
       " [('s', 'https://w3id.org/arco/resource/City/foiano-di-val-fortore')],\n",
       " [('s', 'https://w3id.org/arco/resource/City/fontegreca')],\n",
       " [('s', 'https://w3id.org/arco/resource/City/monte-santa-maria-tiberina')],\n",
       " [('s', 'https://w3id.org/arco/resource/City/orta-di-atella')],\n",
       " [('s', 'https://w3id.org/arco/resource/City/paduli')],\n",
       " [('s', 'https://w3id.org/arco/resource/City/pannarano')],\n",
       " [('s', 'https://w3id.org/arco/resource/City/pontelatone')],\n",
       " [('s', 'https://w3id.org/arco/resource/City/san-cipriano-daversa')],\n",
       " [('s', 'https://w3id.org/arco/resource/City/san-giorgio-la-molara')],\n",
       " [('s', 'https://w3id.org/arco/resource/City/san-nazario')],\n",
       " [('s', 'https://w3id.org/arco/resource/City/san-nicola-manfredi')],\n",
       " [('s', 'https://w3id.org/arco/resource/City/san-prisco')],\n",
       " [('s', 'https://w3id.org/arco/resource/City/santa-maria-la-fossa')],\n",
       " [('s', 'https://w3id.org/arco/resource/City/sassinoro')],\n",
       " [('s', 'https://w3id.org/arco/resource/City/scheggia-e-pascelupo')],\n",
       " [('s', 'https://w3id.org/arco/resource/City/teverola')],\n",
       " [('s', 'https://w3id.org/arco/resource/City/tora-e-piccilli')],\n",
       " [('s', 'https://w3id.org/arco/resource/City/castelnuovo-parano')],\n",
       " [('s', 'https://w3id.org/arco/resource/City/cassola')],\n",
       " [('s', 'https://w3id.org/arco/resource/City/dervio')],\n",
       " [('s', 'https://w3id.org/arco/resource/City/margno')],\n",
       " [('s', 'https://w3id.org/arco/resource/City/solignano')],\n",
       " [('s', 'https://w3id.org/arco/resource/City/valmozzola')],\n",
       " [('s', 'https://w3id.org/arco/resource/City/pradalunga')],\n",
       " [('s', 'https://w3id.org/arco/resource/City/agropoli')],\n",
       " [('s', 'https://w3id.org/arco/resource/City/aiello-del-sabato')],\n",
       " [('s', 'https://w3id.org/arco/resource/City/aquara')],\n",
       " [('s', 'https://w3id.org/arco/resource/City/buccino')],\n",
       " [('s', 'https://w3id.org/arco/resource/City/buonabitacolo')],\n",
       " [('s', 'https://w3id.org/arco/resource/City/cairano')],\n",
       " [('s', 'https://w3id.org/arco/resource/City/candida')],\n",
       " [('s', 'https://w3id.org/arco/resource/City/cannalonga')],\n",
       " [('s', 'https://w3id.org/arco/resource/City/casalbuono')],\n",
       " [('s', 'https://w3id.org/arco/resource/City/cassano-irpino')],\n",
       " [('s', 'https://w3id.org/arco/resource/City/castellabate')],\n",
       " [('s', 'https://w3id.org/arco/resource/City/castelnuovo-di-conza')],\n",
       " [('s', 'https://w3id.org/arco/resource/City/chianche')],\n",
       " [('s', 'https://w3id.org/arco/resource/City/controne')],\n",
       " [('s', 'https://w3id.org/arco/resource/City/contursi-terme')]]"
      ]
     },
     "execution_count": 14,
     "metadata": {},
     "output_type": "execute_result"
    }
   ],
   "source": [
    "\n",
    "a = run_query(\"\"\"\n",
    "select distinct * where {\n",
    "  ?s rdf:type <https://w3id.org/italia/onto/CLV/City>\n",
    "}\n",
    "LIMIT 100\n",
    "\"\"\")\n",
    "\n",
    "print(len(a))\n",
    "a"
   ]
  },
  {
   "cell_type": "code",
   "execution_count": 15,
   "metadata": {},
   "outputs": [
    {
     "name": "stdout",
     "output_type": "stream",
     "text": [
      "3\n"
     ]
    },
    {
     "data": {
      "text/plain": [
       "[[('s', 'http://dati.beniculturali.it/mibact/luoghi/resource/City/Padova')],\n",
       " [('s', 'http://dati.beniculturali.it/mibact/eventi/resource/City/Padova')],\n",
       " [('s',\n",
       "   'http://dati.beniculturali.it/mibact/eventi/resource/City/Masera_di_Padova')]]"
      ]
     },
     "execution_count": 15,
     "metadata": {},
     "output_type": "execute_result"
    }
   ],
   "source": [
    "\n",
    "a = run_query(\"\"\"\n",
    "select distinct * where {\n",
    "  ?s a <https://w3id.org/italia/onto/CLV/City>\n",
    "  FILTER regex(?s, \"Padova\")\n",
    "\n",
    "}\n",
    "LIMIT 100\n",
    "\"\"\")\n",
    "\n",
    "print(len(a))\n",
    "a"
   ]
  },
  {
   "cell_type": "code",
   "execution_count": 16,
   "metadata": {},
   "outputs": [
    {
     "name": "stdout",
     "output_type": "stream",
     "text": [
      "21\n"
     ]
    },
    {
     "data": {
      "text/plain": [
       "[[('s', 'https://w3id.org/arco/resource/City/padova'),\n",
       "  ('p', 'http://www.w3.org/2002/07/owl#sameAs')],\n",
       " [('s', 'http://dati.beniculturali.it/mibact/eventi/resource/City/Padova'),\n",
       "  ('p', 'http://www.w3.org/2002/07/owl#sameAs')],\n",
       " [('s', 'http://dati.beniculturali.it/icar/san/resource/City/padova'),\n",
       "  ('p', 'http://www.w3.org/2002/07/owl#sameAs')],\n",
       " [('s', 'http://dati.beniculturali.it/iccd/fotografico/resource/City/padova'),\n",
       "  ('p', 'http://www.w3.org/2002/07/owl#sameAs')],\n",
       " [('s', 'http://dati.beniculturali.it/iccu/anagrafe/resource/City/028060'),\n",
       "  ('p', 'http://www.w3.org/2002/07/owl#sameAs')],\n",
       " [('s', 'http://dati.beniculturali.it/iccd/schede/resource/City/PADOVA'),\n",
       "  ('p', 'http://www.w3.org/2002/07/owl#sameAs')],\n",
       " [('s',\n",
       "   'http://dati.beniculturali.it/mibact/luoghi/resource/Address/Indirizzo_della_sede_di_Archivio_di_Stato_di_Padova_126366'),\n",
       "  ('p', 'https://w3id.org/italia/onto/CLV/hasCity')],\n",
       " [('s',\n",
       "   'http://dati.beniculturali.it/mibact/luoghi/resource/Address/Indirizzo_della_sede_di_Biblioteca_Statale_del_Monumento_Nazionale_di_Santa_Giustina_118201'),\n",
       "  ('p', 'https://w3id.org/italia/onto/CLV/hasCity')],\n",
       " [('s',\n",
       "   'http://dati.beniculturali.it/mibact/luoghi/resource/Address/Indirizzo_della_sede_di_Biblioteca_Universitaria_di_Padova_116763'),\n",
       "  ('p', 'https://w3id.org/italia/onto/CLV/hasCity')],\n",
       " [('s',\n",
       "   'http://dati.beniculturali.it/mibact/luoghi/resource/Address/Indirizzo_della_sede_di_Cappella_degli_Scrovegni_100940'),\n",
       "  ('p', 'https://w3id.org/italia/onto/CLV/hasCity')],\n",
       " [('s',\n",
       "   'http://dati.beniculturali.it/mibact/luoghi/resource/Address/Indirizzo_della_sede_di_Dipartimento_Scienze_Medico_Diagnostiche_e_Terapie_Speciali_100915'),\n",
       "  ('p', 'https://w3id.org/italia/onto/CLV/hasCity')],\n",
       " [('s',\n",
       "   'http://dati.beniculturali.it/mibact/luoghi/resource/Address/Indirizzo_della_sede_di_Loggia_e_Odeo_Cornaro_100935'),\n",
       "  ('p', 'https://w3id.org/italia/onto/CLV/hasCity')],\n",
       " [('s',\n",
       "   'http://dati.beniculturali.it/mibact/luoghi/resource/Address/Indirizzo_della_sede_di_Musei_civici_di_Padova_100918'),\n",
       "  ('p', 'https://w3id.org/italia/onto/CLV/hasCity')],\n",
       " [('s',\n",
       "   'http://dati.beniculturali.it/mibact/luoghi/resource/Address/Indirizzo_della_sede_di_Museo_Vincenzo_Stefano_Breda_105475'),\n",
       "  ('p', 'https://w3id.org/italia/onto/CLV/hasCity')],\n",
       " [('s',\n",
       "   'http://dati.beniculturali.it/mibact/luoghi/resource/Address/Indirizzo_della_sede_di_Museo_veneto_del_giocattolo_-_onlus_100933'),\n",
       "  ('p', 'https://w3id.org/italia/onto/CLV/hasCity')],\n",
       " [('s',\n",
       "   'http://dati.beniculturali.it/mibact/luoghi/resource/Address/Indirizzo_della_sede_di_Oratorio_San_Rocco_100936'),\n",
       "  ('p', 'https://w3id.org/italia/onto/CLV/hasCity')],\n",
       " [('s',\n",
       "   'http://dati.beniculturali.it/mibact/luoghi/resource/Address/Indirizzo_della_sede_di_Palazzo_Zuckermann_100934'),\n",
       "  ('p', 'https://w3id.org/italia/onto/CLV/hasCity')],\n",
       " [('s',\n",
       "   'http://dati.beniculturali.it/mibact/luoghi/resource/Address/Indirizzo_della_sede_di_Piano_nobile_dello_stabilimento_Pedrocchi_100922'),\n",
       "  ('p', 'https://w3id.org/italia/onto/CLV/hasCity')],\n",
       " [('s',\n",
       "   'http://dati.beniculturali.it/mibact/luoghi/resource/Address/Indirizzo_della_sede_di_Centro_di_Ateneo_-_Orto_botanico_dell_Universita_di_Padova_100912'),\n",
       "  ('p', 'https://w3id.org/italia/onto/CLV/hasCity')],\n",
       " [('s',\n",
       "   'http://dati.beniculturali.it/mibact/luoghi/resource/Address/Indirizzo_della_sede_di_Palazzo_Cavalli_143572'),\n",
       "  ('p', 'https://w3id.org/italia/onto/CLV/hasCity')],\n",
       " [('s',\n",
       "   'http://dati.beniculturali.it/mibact/luoghi/resource/Address/Indirizzo_della_sede_di_Museo_diocesano_di_Padova_100930'),\n",
       "  ('p', 'https://w3id.org/italia/onto/CLV/hasCity')]]"
      ]
     },
     "execution_count": 16,
     "metadata": {},
     "output_type": "execute_result"
    }
   ],
   "source": [
    "\n",
    "a = run_query(\"\"\"\n",
    "select distinct * where {\n",
    "  ?s ?p <http://dati.beniculturali.it/mibact/luoghi/resource/City/Padova>\n",
    "}\n",
    "LIMIT 100\n",
    "\"\"\")\n",
    "\n",
    "print(len(a))\n",
    "a"
   ]
  },
  {
   "cell_type": "code",
   "execution_count": 17,
   "metadata": {},
   "outputs": [
    {
     "name": "stdout",
     "output_type": "stream",
     "text": [
      "15\n"
     ]
    },
    {
     "data": {
      "text/plain": [
       "[[('s',\n",
       "   'http://dati.beniculturali.it/mibact/luoghi/resource/Address/Indirizzo_della_sede_di_Archivio_di_Stato_di_Padova_126366')],\n",
       " [('s',\n",
       "   'http://dati.beniculturali.it/mibact/luoghi/resource/Address/Indirizzo_della_sede_di_Biblioteca_Statale_del_Monumento_Nazionale_di_Santa_Giustina_118201')],\n",
       " [('s',\n",
       "   'http://dati.beniculturali.it/mibact/luoghi/resource/Address/Indirizzo_della_sede_di_Biblioteca_Universitaria_di_Padova_116763')],\n",
       " [('s',\n",
       "   'http://dati.beniculturali.it/mibact/luoghi/resource/Address/Indirizzo_della_sede_di_Cappella_degli_Scrovegni_100940')],\n",
       " [('s',\n",
       "   'http://dati.beniculturali.it/mibact/luoghi/resource/Address/Indirizzo_della_sede_di_Dipartimento_Scienze_Medico_Diagnostiche_e_Terapie_Speciali_100915')],\n",
       " [('s',\n",
       "   'http://dati.beniculturali.it/mibact/luoghi/resource/Address/Indirizzo_della_sede_di_Loggia_e_Odeo_Cornaro_100935')],\n",
       " [('s',\n",
       "   'http://dati.beniculturali.it/mibact/luoghi/resource/Address/Indirizzo_della_sede_di_Musei_civici_di_Padova_100918')],\n",
       " [('s',\n",
       "   'http://dati.beniculturali.it/mibact/luoghi/resource/Address/Indirizzo_della_sede_di_Museo_Vincenzo_Stefano_Breda_105475')],\n",
       " [('s',\n",
       "   'http://dati.beniculturali.it/mibact/luoghi/resource/Address/Indirizzo_della_sede_di_Museo_veneto_del_giocattolo_-_onlus_100933')],\n",
       " [('s',\n",
       "   'http://dati.beniculturali.it/mibact/luoghi/resource/Address/Indirizzo_della_sede_di_Oratorio_San_Rocco_100936')],\n",
       " [('s',\n",
       "   'http://dati.beniculturali.it/mibact/luoghi/resource/Address/Indirizzo_della_sede_di_Palazzo_Zuckermann_100934')],\n",
       " [('s',\n",
       "   'http://dati.beniculturali.it/mibact/luoghi/resource/Address/Indirizzo_della_sede_di_Piano_nobile_dello_stabilimento_Pedrocchi_100922')],\n",
       " [('s',\n",
       "   'http://dati.beniculturali.it/mibact/luoghi/resource/Address/Indirizzo_della_sede_di_Centro_di_Ateneo_-_Orto_botanico_dell_Universita_di_Padova_100912')],\n",
       " [('s',\n",
       "   'http://dati.beniculturali.it/mibact/luoghi/resource/Address/Indirizzo_della_sede_di_Palazzo_Cavalli_143572')],\n",
       " [('s',\n",
       "   'http://dati.beniculturali.it/mibact/luoghi/resource/Address/Indirizzo_della_sede_di_Museo_diocesano_di_Padova_100930')]]"
      ]
     },
     "execution_count": 17,
     "metadata": {},
     "output_type": "execute_result"
    }
   ],
   "source": [
    "\n",
    "a = run_query(\"\"\"\n",
    "select distinct * where {\n",
    "  ?s <https://w3id.org/italia/onto/CLV/hasCity> <http://dati.beniculturali.it/mibact/luoghi/resource/City/Padova>\n",
    "}\n",
    "LIMIT 100\n",
    "\"\"\")\n",
    "\n",
    "print(len(a))\n",
    "a"
   ]
  },
  {
   "cell_type": "code",
   "execution_count": 19,
   "metadata": {},
   "outputs": [
    {
     "name": "stdout",
     "output_type": "stream",
     "text": [
      "9\n"
     ]
    },
    {
     "data": {
      "text/plain": [
       "[[('p', 'http://www.w3.org/1999/02/22-rdf-syntax-ns#type'),\n",
       "  ('o', 'https://w3id.org/italia/onto/CLV/Address')],\n",
       " [('p', 'http://www.w3.org/2000/01/rdf-schema#label'),\n",
       "  ('o', 'Indirizzo della Sede di: Palazzo Zuckermann')],\n",
       " [('p', 'https://w3id.org/italia/onto/CLV/hasProvince'),\n",
       "  ('o',\n",
       "   'http://dati.beniculturali.it/mibact/luoghi/resource/Province/Padova')],\n",
       " [('p', 'https://w3id.org/italia/onto/CLV/hasRegion'),\n",
       "  ('o', 'http://dati.beniculturali.it/mibact/luoghi/resource/Region/Veneto')],\n",
       " [('p', 'https://w3id.org/italia/onto/CLV/fullAddress'),\n",
       "  ('o', 'Corso Garibaldi - Padova')],\n",
       " [('p', 'https://w3id.org/italia/onto/CLV/hasCountry'),\n",
       "  ('o', 'http://dati.beniculturali.it/mibact/luoghi/resource/Country/Italia')],\n",
       " [('p', 'https://w3id.org/italia/onto/CLV/postCode'), ('o', '35126')],\n",
       " [('p', 'https://w3id.org/italia/onto/CLV/hasCity'),\n",
       "  ('o', 'http://dati.beniculturali.it/mibact/luoghi/resource/City/Padova')],\n",
       " [('p', 'https://w3id.org/italia/onto/CLV/hasStreetToponym'),\n",
       "  ('o',\n",
       "   'http://dati.beniculturali.it/mibact/luoghi/resource/StreetToponym/100934')]]"
      ]
     },
     "execution_count": 19,
     "metadata": {},
     "output_type": "execute_result"
    }
   ],
   "source": [
    "a = run_query(\"\"\"\n",
    "select distinct * where {\n",
    "    <http://dati.beniculturali.it/mibact/luoghi/resource/Address/Indirizzo_della_sede_di_Palazzo_Zuckermann_100934> ?p ?o\n",
    "\n",
    "}\n",
    "LIMIT 100\n",
    "\"\"\")\n",
    "\n",
    "print(len(a))\n",
    "a"
   ]
  },
  {
   "cell_type": "code",
   "execution_count": 20,
   "metadata": {},
   "outputs": [
    {
     "name": "stdout",
     "output_type": "stream",
     "text": [
      "1\n"
     ]
    },
    {
     "data": {
      "text/plain": [
       "[[('s',\n",
       "   'http://dati.beniculturali.it/mibact/luoghi/resource/Site/Sede_di_100934'),\n",
       "  ('p', 'http://dati.beniculturali.it/cis/siteAddress')]]"
      ]
     },
     "execution_count": 20,
     "metadata": {},
     "output_type": "execute_result"
    }
   ],
   "source": [
    "a = run_query(\"\"\"\n",
    "select distinct * where {\n",
    "    ?s ?p <http://dati.beniculturali.it/mibact/luoghi/resource/Address/Indirizzo_della_sede_di_Palazzo_Zuckermann_100934>\n",
    "\n",
    "}\n",
    "LIMIT 100\n",
    "\"\"\")\n",
    "\n",
    "print(len(a))\n",
    "a"
   ]
  },
  {
   "cell_type": "code",
   "execution_count": 25,
   "metadata": {},
   "outputs": [
    {
     "name": "stdout",
     "output_type": "stream",
     "text": [
      "5\n"
     ]
    },
    {
     "data": {
      "text/plain": [
       "[[('p', 'http://www.w3.org/1999/02/22-rdf-syntax-ns#type'),\n",
       "  ('o', 'http://dati.beniculturali.it/cis/Site')],\n",
       " [('p', 'http://www.w3.org/2000/01/rdf-schema#label'),\n",
       "  ('o', 'Sede di Palazzo Zuckermann')],\n",
       " [('p', 'http://dati.beniculturali.it/cis/siteAddress'),\n",
       "  ('o',\n",
       "   'http://dati.beniculturali.it/mibact/luoghi/resource/Address/Indirizzo_della_sede_di_Palazzo_Zuckermann_100934')],\n",
       " [('p', 'https://w3id.org/italia/onto/CLV/hasGeometry'),\n",
       "  ('o',\n",
       "   'http://dati.beniculturali.it/mibact/luoghi/resource/Geometry/Coordinate_geografiche_della_sede_di_Palazzo_Zuckermann_100934')],\n",
       " [('p', 'https://w3id.org/italia/onto/l0/name'),\n",
       "  ('o', 'Sede di Palazzo Zuckermann')]]"
      ]
     },
     "execution_count": 25,
     "metadata": {},
     "output_type": "execute_result"
    }
   ],
   "source": [
    "a = run_query(\"\"\"\n",
    "select distinct ?p ?o where {\n",
    "    ?s ?pp <http://dati.beniculturali.it/mibact/luoghi/resource/Address/Indirizzo_della_sede_di_Palazzo_Zuckermann_100934>.\n",
    "    ?s ?p ?o\n",
    "\n",
    "}\n",
    "LIMIT 100\n",
    "\"\"\")\n",
    "\n",
    "print(len(a))\n",
    "a"
   ]
  },
  {
   "cell_type": "code",
   "execution_count": 27,
   "metadata": {},
   "outputs": [
    {
     "name": "stdout",
     "output_type": "stream",
     "text": [
      "3\n"
     ]
    },
    {
     "data": {
      "text/plain": [
       "[[('ss',\n",
       "   'http://dati.beniculturali.it/mibact/eventi/resource/Site/Sede_di_3717'),\n",
       "  ('p', 'http://www.w3.org/2002/07/owl#sameAs')],\n",
       " [('ss',\n",
       "   'http://dati.beniculturali.it/mibact/eventi/resource/Site/Sede_di_5624'),\n",
       "  ('p', 'http://www.w3.org/2002/07/owl#sameAs')],\n",
       " [('ss',\n",
       "   'http://dati.beniculturali.it/mibact/luoghi/resource/CulturalInstituteOrSite/100930'),\n",
       "  ('p', 'http://dati.beniculturali.it/cis/hasSite')]]"
      ]
     },
     "execution_count": 27,
     "metadata": {},
     "output_type": "execute_result"
    }
   ],
   "source": [
    "a = run_query(\"\"\"\n",
    "select distinct ?ss ?p ?o where {\n",
    "    ?s ?pp <http://dati.beniculturali.it/mibact/luoghi/resource/Address/Indirizzo_della_sede_di_Museo_diocesano_di_Padova_100930>.\n",
    "    ?ss ?p ?s\n",
    "\n",
    "}\n",
    "LIMIT 100\n",
    "\"\"\")\n",
    "\n",
    "print(len(a))\n",
    "a"
   ]
  },
  {
   "cell_type": "code",
   "execution_count": 28,
   "metadata": {},
   "outputs": [
    {
     "name": "stdout",
     "output_type": "stream",
     "text": [
      "17\n"
     ]
    },
    {
     "data": {
      "text/plain": [
       "[[('p', 'http://www.w3.org/1999/02/22-rdf-syntax-ns#type'),\n",
       "  ('o', 'http://dati.beniculturali.it/cis/CulturalInstituteOrSite')],\n",
       " [('p', 'http://www.w3.org/2000/01/rdf-schema#label'),\n",
       "  ('o', 'Museo diocesano di Padova')],\n",
       " [('p', 'http://www.w3.org/2002/07/owl#sameAs'),\n",
       "  ('o', 'http://www.wikidata.org/entity/Q3868332')],\n",
       " [('p', 'http://dati.beniculturali.it/cis/hasSite'),\n",
       "  ('o',\n",
       "   'http://dati.beniculturali.it/mibact/luoghi/resource/Site/Sede_di_100930')],\n",
       " [('p', 'http://dati.beniculturali.it/cis/hasDiscipline'),\n",
       "  ('o',\n",
       "   'http://dati.beniculturali.it/mibact/luoghi/resource/SubjectDiscipline/Sito_Default')],\n",
       " [('p', 'http://www.w3.org/2003/01/geo/wgs84_pos#lat'), ('o', '45.40653')],\n",
       " [('p', 'http://www.w3.org/2003/01/geo/wgs84_pos#long'), ('o', '11.872349')],\n",
       " [('p', 'http://xmlns.com/foaf/0.1/depiction'),\n",
       "  ('o',\n",
       "   'http://media.beniculturali.it/mibac/files/boards/388a5474724a15af0ace7a40ab3301de/Veneto/Padova/Padova,%20Museo%20diocesano.jpg')],\n",
       " [('p', 'http://purl.org/dc/elements/1.1/type'),\n",
       "  ('o', 'Museo, Galleria e/o raccolta')],\n",
       " [('p', 'https://w3id.org/italia/onto/CLV/hasGeometry'),\n",
       "  ('o',\n",
       "   'http://dati.beniculturali.it/mibact/luoghi/resource/Geometry/Coordinate_geografiche_della_sede_di_Museo_diocesano_di_Padova_100930')],\n",
       " [('p', 'https://w3id.org/italia/onto/l0/identifier'),\n",
       "  ('o', 'DBUnico.100930')],\n",
       " [('p', 'http://dati.beniculturali.it/cis/hasCISNameInTime'),\n",
       "  ('o',\n",
       "   'http://dati.beniculturali.it/mibact/luoghi/resource/CISNameInTime/100930')],\n",
       " [('p', 'http://dati.beniculturali.it/cis/institutionalCISName'),\n",
       "  ('o', 'Museo diocesano di Padova')],\n",
       " [('p', 'https://w3id.org/italia/onto/AccessCondition/hasAccessCondition'),\n",
       "  ('o', 'http://dati.beniculturali.it/mibact/luoghi/resource/Booking/None')],\n",
       " [('p', 'https://w3id.org/italia/onto/AccessCondition/hasAccessCondition'),\n",
       "  ('o',\n",
       "   'http://dati.beniculturali.it/mibact/luoghi/resource/OpeningHoursSpecification/Chiusura_100930')],\n",
       " [('p', 'https://w3id.org/italia/onto/SM/hasOnlineContactPoint'),\n",
       "  ('o',\n",
       "   'http://dati.beniculturali.it/mibact/luoghi/resource/OnlineContactPoint/http___www_museodiocesanopadova_it-info_museodiocesanopadova_it-049652855')],\n",
       " [('p', 'https://w3id.org/italia/onto/l0/description'),\n",
       "  ('o',\n",
       "   \"l Museo diocesano di Padova è un museo, inaugurato nel 2000, allestito negli ambienti del Palazzo vescovile di Padova, costruito nel XV secolo, ma la cui fondazione risale agli inizi del XIV secolo. L'edificio sorge a fianco del duomo cittadino in piazza Duomo, nel centro storico del capoluogo veneto.\")]]"
      ]
     },
     "execution_count": 28,
     "metadata": {},
     "output_type": "execute_result"
    }
   ],
   "source": [
    "a = run_query(\"\"\"\n",
    "select distinct * where {\n",
    "    <http://dati.beniculturali.it/mibact/luoghi/resource/CulturalInstituteOrSite/100930> ?p ?o\n",
    "\n",
    "}\n",
    "LIMIT 100\n",
    "\"\"\")\n",
    "\n",
    "print(len(a))\n",
    "a"
   ]
  },
  {
   "cell_type": "code",
   "execution_count": 36,
   "metadata": {},
   "outputs": [
    {
     "name": "stdout",
     "output_type": "stream",
     "text": [
      "16\n"
     ]
    },
    {
     "data": {
      "text/plain": [
       "[[('p', 'http://www.w3.org/1999/02/22-rdf-syntax-ns#type'),\n",
       "  ('o', 'http://dati.beniculturali.it/cis/CulturalInstituteOrSite')],\n",
       " [('p', 'http://www.w3.org/2000/01/rdf-schema#label'),\n",
       "  ('o', 'Museo Vincenzo Stefano Breda')],\n",
       " [('p', 'http://www.w3.org/2002/07/owl#sameAs'),\n",
       "  ('o', 'http://www.wikidata.org/entity/Q55385633')],\n",
       " [('p', 'http://dati.beniculturali.it/cis/hasSite'),\n",
       "  ('o',\n",
       "   'http://dati.beniculturali.it/mibact/luoghi/resource/Site/Sede_di_105475')],\n",
       " [('p', 'http://dati.beniculturali.it/cis/hasDiscipline'),\n",
       "  ('o',\n",
       "   'http://dati.beniculturali.it/mibact/luoghi/resource/SubjectDiscipline/Nuclei_Carabinieri_TCP')],\n",
       " [('p', 'http://www.w3.org/2003/01/geo/wgs84_pos#lat'), ('o', '45.426384')],\n",
       " [('p', 'http://www.w3.org/2003/01/geo/wgs84_pos#long'), ('o', '11.949605')],\n",
       " [('p', 'http://purl.org/dc/elements/1.1/type'),\n",
       "  ('o', 'Museo, Galleria e/o raccolta')],\n",
       " [('p', 'https://w3id.org/italia/onto/CLV/hasGeometry'),\n",
       "  ('o',\n",
       "   'http://dati.beniculturali.it/mibact/luoghi/resource/Geometry/Coordinate_geografiche_della_sede_di_Museo_Vincenzo_Stefano_Breda_105475')],\n",
       " [('p', 'https://w3id.org/italia/onto/l0/identifier'),\n",
       "  ('o', 'DBUnico.105475')],\n",
       " [('p', 'http://dati.beniculturali.it/cis/hasCISNameInTime'),\n",
       "  ('o',\n",
       "   'http://dati.beniculturali.it/mibact/luoghi/resource/CISNameInTime/105475')],\n",
       " [('p', 'http://dati.beniculturali.it/cis/institutionalCISName'),\n",
       "  ('o', 'Museo Vincenzo Stefano Breda')],\n",
       " [('p', 'https://w3id.org/italia/onto/AccessCondition/hasAccessCondition'),\n",
       "  ('o', 'http://dati.beniculturali.it/mibact/luoghi/resource/Booking/None')],\n",
       " [('p', 'https://w3id.org/italia/onto/AccessCondition/hasAccessCondition'),\n",
       "  ('o',\n",
       "   'http://dati.beniculturali.it/mibact/luoghi/resource/OpeningHoursSpecification/Chiusura_105475')],\n",
       " [('p', 'https://w3id.org/italia/onto/SM/hasOnlineContactPoint'),\n",
       "  ('o',\n",
       "   'http://dati.beniculturali.it/mibact/luoghi/resource/OnlineContactPoint/http___www_fondazionebreda_it-info_fondazionebreda_it-0498937333')],\n",
       " [('p', 'https://w3id.org/italia/onto/l0/description'),\n",
       "  ('o',\n",
       "   'Il complesso di \"Villa Breda\", sito in via San Marco a Ponte di Brenta, comprende la Villa padronale, già dimora della famiglia patrizia Contarini di Venezia, entro la splendida cornice dello storico Parco di 75.000 metri quadrati.\\nL\\'originale impianto settecentesco, acquistato nel 1859 dall\\'imprenditore padovano Vincenzo Breda, subì negli anni 1864-65 una profonda ristrutturazione a opera dell\\'Architetto vicentino Antonio Caregaro Negrin che ne mutò radicalmente la struttura, articolandola secondo il gusto eclettico del tempo. All\\'interno del Parco è ancora oggi praticato l\\'allevamento equino nelle storiche scuderie e l\\'allenamento dei trottatori nella pista dì addestramento. Recentemente restaurata e ristrutturata, \"Villa Breda\" è oggi una prestigiosa sede museale articolata in più sezioni ed in grado di ospitare importanti esposizioni temporanee. Il museo, sito all\\'interno di Villa Breda, si articola in tre sezioni: la prima ospita il museo delle aziende municipalizzate dell\\'acqua e del gas di Padova, la seconda è dedicata al museo dell\\'ippica, mentre la terza ospita il museo e l\\'archivio storico dell\\'ente morale. La sezione accoglie la pinacoteca, i bronzetti e i mobili di Villa Breda, la ricca biblioteca del senatore, il suo consistente archivio con i carteggi storici.')]]"
      ]
     },
     "execution_count": 36,
     "metadata": {},
     "output_type": "execute_result"
    }
   ],
   "source": [
    "a = run_query(\"\"\"\n",
    "select distinct * where {\n",
    "    <http://dati.beniculturali.it/mibact/luoghi/resource/CulturalInstituteOrSite/100933> ?p ?o\n",
    "\n",
    "}\n",
    "LIMIT 100\n",
    "\"\"\")\n",
    "\n",
    "print(len(a))\n",
    "a"
   ]
  }
 ],
 "metadata": {
  "kernelspec": {
   "display_name": "Python 3.10.6 64-bit",
   "language": "python",
   "name": "python3"
  },
  "language_info": {
   "codemirror_mode": {
    "name": "ipython",
    "version": 3
   },
   "file_extension": ".py",
   "mimetype": "text/x-python",
   "name": "python",
   "nbconvert_exporter": "python",
   "pygments_lexer": "ipython3",
   "version": "3.10.6"
  },
  "orig_nbformat": 4,
  "vscode": {
   "interpreter": {
    "hash": "916dbcbb3f70747c44a77c7bcd40155683ae19c65e1c03b4aa3499c5328201f1"
   }
  }
 },
 "nbformat": 4,
 "nbformat_minor": 2
}
