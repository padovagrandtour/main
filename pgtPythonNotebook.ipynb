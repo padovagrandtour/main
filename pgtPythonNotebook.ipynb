{
 "cells": [
  {
   "cell_type": "markdown",
   "id": "aa89641d-bba9-41e0-a5d3-5a47bdae7672",
   "metadata": {},
   "source": [
    "# Data preprocessing"
   ]
  },
  {
   "cell_type": "code",
   "execution_count": 29,
   "id": "33c34448-20af-4a5a-a268-fc0db733797c",
   "metadata": {},
   "outputs": [],
   "source": [
    "# required libraries\n",
    "import pandas as pd\n",
    "import json\n",
    "import os\n",
    "from pathlib import Path\n",
    "import re\n",
    "\n",
    "\n",
    "\n",
    "path = str(Path(os.path.abspath(os.getcwd())))\n",
    "\n",
    "museumsUrl = path + '/padovamuseicivici.json'\n",
    "locationsUrl = path + '/wikipedia-categories.json'"
   ]
  },
  {
   "cell_type": "code",
   "execution_count": 30,
   "id": "9bb271a0-6d98-46ec-9838-2acd7c9c95c5",
   "metadata": {},
   "outputs": [],
   "source": [
    "#Read entire Json (dictionnary of multiple dictionnaries)\n",
    "museums=pd.read_json(museumsUrl)\n",
    "\n",
    "#we want to flatten the \"collections\" dict which contains artworks info\n",
    "collections=museums.loc[\"collections\",:]"
   ]
  },
  {
   "cell_type": "code",
   "execution_count": 31,
   "id": "c515ed48-0385-43eb-99e7-6888a35b69d4",
   "metadata": {},
   "outputs": [
    {
     "data": {
      "text/html": [
       "<div>\n",
       "<style scoped>\n",
       "    .dataframe tbody tr th:only-of-type {\n",
       "        vertical-align: middle;\n",
       "    }\n",
       "\n",
       "    .dataframe tbody tr th {\n",
       "        vertical-align: top;\n",
       "    }\n",
       "\n",
       "    .dataframe thead th {\n",
       "        text-align: right;\n",
       "    }\n",
       "</style>\n",
       "<table border=\"1\" class=\"dataframe\">\n",
       "  <thead>\n",
       "    <tr style=\"text-align: right;\">\n",
       "      <th></th>\n",
       "      <th>name</th>\n",
       "      <th>img</th>\n",
       "      <th>description</th>\n",
       "      <th>tags</th>\n",
       "      <th>Cronologia</th>\n",
       "      <th>Materiale e Tecnica</th>\n",
       "      <th>Dimensioni</th>\n",
       "      <th>Collocazione</th>\n",
       "      <th>Inventario</th>\n",
       "      <th>Stato di conservazione</th>\n",
       "      <th>...</th>\n",
       "      <th>Specifiche di reperimento</th>\n",
       "      <th>Osservazioni</th>\n",
       "      <th>Dati di scavo</th>\n",
       "      <th>Autore</th>\n",
       "      <th>Dritto</th>\n",
       "      <th>Rovescio</th>\n",
       "      <th>Notizie storico-critiche</th>\n",
       "      <th>Zecca</th>\n",
       "      <th>Url</th>\n",
       "      <th>museumName</th>\n",
       "    </tr>\n",
       "  </thead>\n",
       "  <tbody>\n",
       "    <tr>\n",
       "      <th>0</th>\n",
       "      <td>Gioacchino cacciato dal Tempio</td>\n",
       "      <td>https://cappellascrovegni.padovamusei.it/sites...</td>\n",
       "      <td>Si narra nei Vangeli apocrifi che Gioacchino, ...</td>\n",
       "      <td>[Dipinto]</td>\n",
       "      <td>XIV, inizio sec.</td>\n",
       "      <td>Affresco</td>\n",
       "      <td>Altezza: 208 cm ca.Larghezza: 220 cm ca.</td>\n",
       "      <td>Navata, parete destra, registro superiore, I r...</td>\n",
       "      <td>S.n.</td>\n",
       "      <td>Buono</td>\n",
       "      <td>...</td>\n",
       "      <td>NaN</td>\n",
       "      <td>NaN</td>\n",
       "      <td>NaN</td>\n",
       "      <td>NaN</td>\n",
       "      <td>NaN</td>\n",
       "      <td>NaN</td>\n",
       "      <td>NaN</td>\n",
       "      <td>NaN</td>\n",
       "      <td>https://cappellascrovegni.padovamusei.it/it/co...</td>\n",
       "      <td>capellascrovegni</td>\n",
       "    </tr>\n",
       "  </tbody>\n",
       "</table>\n",
       "<p>1 rows × 22 columns</p>\n",
       "</div>"
      ],
      "text/plain": [
       "                             name  \\\n",
       "0  Gioacchino cacciato dal Tempio   \n",
       "\n",
       "                                                 img  \\\n",
       "0  https://cappellascrovegni.padovamusei.it/sites...   \n",
       "\n",
       "                                         description       tags  \\\n",
       "0  Si narra nei Vangeli apocrifi che Gioacchino, ...  [Dipinto]   \n",
       "\n",
       "         Cronologia Materiale e Tecnica  \\\n",
       "0  XIV, inizio sec.            Affresco   \n",
       "\n",
       "                                 Dimensioni  \\\n",
       "0  Altezza: 208 cm ca.Larghezza: 220 cm ca.   \n",
       "\n",
       "                                        Collocazione Inventario  \\\n",
       "0  Navata, parete destra, registro superiore, I r...       S.n.   \n",
       "\n",
       "  Stato di conservazione  ... Specifiche di reperimento Osservazioni  \\\n",
       "0                  Buono  ...                       NaN          NaN   \n",
       "\n",
       "  Dati di scavo Autore Dritto Rovescio Notizie storico-critiche Zecca  \\\n",
       "0           NaN    NaN    NaN      NaN                      NaN   NaN   \n",
       "\n",
       "                                                 Url        museumName  \n",
       "0  https://cappellascrovegni.padovamusei.it/it/co...  capellascrovegni  \n",
       "\n",
       "[1 rows x 22 columns]"
      ]
     },
     "execution_count": 31,
     "metadata": {},
     "output_type": "execute_result"
    }
   ],
   "source": [
    "artworks={}\n",
    "\n",
    "#Extracting the Artworks dictionnary for each museum\n",
    "for collec in collections:\n",
    "    for key, value in collec.items():\n",
    "        #print(value.get('artworks'))\n",
    "        artworks.update(value.get('artworks'))\n",
    "        \n",
    "df_artworks=pd.DataFrame(artworks)\n",
    "df_artworks=df_artworks.T\n",
    "df_artworks=pd.concat([df_artworks.drop(['fields'], axis=1), df_artworks['fields'].apply(pd.Series)], axis=1)\n",
    "df_artworks['Url']=df_artworks.index\n",
    "\n",
    "#Each row is an artwork, each column is a data property\n",
    "df_artworks.reset_index(drop=True, inplace=True)\n",
    "\n",
    "#Creating the museumName column using regex\n",
    "df_artworks['museumName']=df_artworks.apply(lambda row : re.search('musei/(.*)/collezioni',row['Url']),axis=1)\n",
    "\n",
    "for index, row in df_artworks.iterrows():\n",
    "    if row['museumName']:\n",
    "        row['museumName']=row['museumName'].group(1)\n",
    "    else:\n",
    "        row['museumName']=\"capellascrovegni\"\n",
    "\n",
    "df_artworks.head(1)"
   ]
  },
  {
   "cell_type": "code",
   "execution_count": 32,
   "id": "a55d7095-4233-4223-9540-bbcf54f41b34",
   "metadata": {},
   "outputs": [],
   "source": [
    "#Regex to extract different dimensions from String Dimensioni column\n",
    "df_dimensions = df_artworks[\"Dimensioni\"].str.extractall(r'([^\\s\"]+)\\s*:\\s*(\\d+\\.?\\d*)').droplevel(1)\n",
    "df_dimensions = df_dimensions.pivot(columns=0, values=1)\n",
    "df_dimensions.columns.name = None\n",
    "df_dimensions=df_dimensions.fillna(0)\n",
    "df_dimensions[['Larghezza','ca.Larghezza']]=df_dimensions[['Larghezza','ca.Larghezza']].apply(pd.to_numeric, errors='coerce', axis=1)\n",
    "df_dimensions['Larghezza']=df_dimensions['Larghezza']+df_dimensions['ca.Larghezza']\n",
    "df_dimensions.drop(columns=['(gr.)', 'ca.Larghezza','cm'], inplace=True)"
   ]
  },
  {
   "cell_type": "code",
   "execution_count": 33,
   "id": "f15055d4-3483-4c93-8206-9d44223851a8",
   "metadata": {},
   "outputs": [],
   "source": [
    "df_artworks=pd.concat([df_artworks, df_dimensions], axis=1)"
   ]
  },
  {
   "cell_type": "code",
   "execution_count": 34,
   "id": "3d709b7a-867a-4db9-a03a-a300c4907ea7",
   "metadata": {},
   "outputs": [],
   "source": [
    "df_museums=museums.T\n",
    "df_museums=df_museums[['name','img','description']]\n",
    "\n",
    "#Saving to csv files\n",
    "df_artworks.to_csv(\"artworks.csv\", encoding='utf-8')\n",
    "df_museums.to_csv(\"museums.csv\",encoding='utf-8')"
   ]
  },
  {
   "cell_type": "markdown",
   "id": "322c20f9-28ae-4f33-a124-6644944cfc72",
   "metadata": {},
   "source": [
    "# Creating database"
   ]
  },
  {
   "cell_type": "code",
   "execution_count": 35,
   "id": "c5c5cb46-cc7f-440d-8778-2df38b77ffad",
   "metadata": {},
   "outputs": [],
   "source": [
    "import pandas as pd\n",
    "from rdflib import Graph, Literal, RDF, URIRef, Namespace\n",
    "# rdflib knows about some namespaces, like FOAF\n",
    "from rdflib.namespace import FOAF, XSD\n",
    "from pathlib import Path\n",
    "import os\n",
    "\n",
    "path = str(Path(os.path.abspath(os.getcwd())))\n",
    "\n",
    "PGT = Namespace(\"https://padovagrandtour.github.io/entitites#\")\n",
    "\n",
    "\n",
    "# saving folder\n",
    "savePath =  path + '\\\\PgtTTLOutput'\n",
    "\n",
    "g = Graph()\n",
    "\n",
    "g.bind(\"foaf\", FOAF)\n",
    "g.bind(\"xsd\", XSD)\n",
    "g.bind(\"pgt\", PGT)"
   ]
  },
  {
   "cell_type": "code",
   "execution_count": 36,
   "id": "85c38f9a-ff15-4dae-8873-1c1cd315d7b2",
   "metadata": {},
   "outputs": [
    {
     "data": {
      "text/html": [
       "<div>\n",
       "<style scoped>\n",
       "    .dataframe tbody tr th:only-of-type {\n",
       "        vertical-align: middle;\n",
       "    }\n",
       "\n",
       "    .dataframe tbody tr th {\n",
       "        vertical-align: top;\n",
       "    }\n",
       "\n",
       "    .dataframe thead th {\n",
       "        text-align: right;\n",
       "    }\n",
       "</style>\n",
       "<table border=\"1\" class=\"dataframe\">\n",
       "  <thead>\n",
       "    <tr style=\"text-align: right;\">\n",
       "      <th></th>\n",
       "      <th>name</th>\n",
       "      <th>img</th>\n",
       "      <th>description</th>\n",
       "      <th>tags</th>\n",
       "      <th>Cronologia</th>\n",
       "      <th>Materiale e Tecnica</th>\n",
       "      <th>Dimensioni</th>\n",
       "      <th>Collocazione</th>\n",
       "      <th>Inventario</th>\n",
       "      <th>Stato di conservazione</th>\n",
       "      <th>...</th>\n",
       "      <th>Notizie storico-critiche</th>\n",
       "      <th>Zecca</th>\n",
       "      <th>Url</th>\n",
       "      <th>museumName</th>\n",
       "      <th>Altezza</th>\n",
       "      <th>Diametro</th>\n",
       "      <th>Larghezza</th>\n",
       "      <th>Lunghezza</th>\n",
       "      <th>Profondità</th>\n",
       "      <th>Spessore</th>\n",
       "    </tr>\n",
       "  </thead>\n",
       "  <tbody>\n",
       "    <tr>\n",
       "      <th>0</th>\n",
       "      <td>Gioacchino cacciato dal Tempio</td>\n",
       "      <td>https://cappellascrovegni.padovamusei.it/sites...</td>\n",
       "      <td>Si narra nei Vangeli apocrifi che Gioacchino, ...</td>\n",
       "      <td>['Dipinto']</td>\n",
       "      <td>XIV, inizio sec.</td>\n",
       "      <td>Affresco</td>\n",
       "      <td>Altezza: 208 cm ca.Larghezza: 220 cm ca.</td>\n",
       "      <td>Navata, parete destra, registro superiore, I r...</td>\n",
       "      <td>S.n.</td>\n",
       "      <td>Buono</td>\n",
       "      <td>...</td>\n",
       "      <td>NaN</td>\n",
       "      <td>NaN</td>\n",
       "      <td>https://cappellascrovegni.padovamusei.it/it/co...</td>\n",
       "      <td>capellascrovegni</td>\n",
       "      <td>208.0</td>\n",
       "      <td>0.0</td>\n",
       "      <td>220.0</td>\n",
       "      <td>0.0</td>\n",
       "      <td>0.0</td>\n",
       "      <td>0.0</td>\n",
       "    </tr>\n",
       "  </tbody>\n",
       "</table>\n",
       "<p>1 rows × 28 columns</p>\n",
       "</div>"
      ],
      "text/plain": [
       "                             name  \\\n",
       "0  Gioacchino cacciato dal Tempio   \n",
       "\n",
       "                                                 img  \\\n",
       "0  https://cappellascrovegni.padovamusei.it/sites...   \n",
       "\n",
       "                                         description         tags  \\\n",
       "0  Si narra nei Vangeli apocrifi che Gioacchino, ...  ['Dipinto']   \n",
       "\n",
       "         Cronologia Materiale e Tecnica  \\\n",
       "0  XIV, inizio sec.            Affresco   \n",
       "\n",
       "                                 Dimensioni  \\\n",
       "0  Altezza: 208 cm ca.Larghezza: 220 cm ca.   \n",
       "\n",
       "                                        Collocazione Inventario  \\\n",
       "0  Navata, parete destra, registro superiore, I r...       S.n.   \n",
       "\n",
       "  Stato di conservazione  ... Notizie storico-critiche Zecca  \\\n",
       "0                  Buono  ...                      NaN   NaN   \n",
       "\n",
       "                                                 Url        museumName  \\\n",
       "0  https://cappellascrovegni.padovamusei.it/it/co...  capellascrovegni   \n",
       "\n",
       "  Altezza Diametro Larghezza Lunghezza Profondità Spessore  \n",
       "0   208.0      0.0     220.0       0.0        0.0      0.0  \n",
       "\n",
       "[1 rows x 28 columns]"
      ]
     },
     "execution_count": 36,
     "metadata": {},
     "output_type": "execute_result"
    }
   ],
   "source": [
    "artworks=pd.read_csv(\"artworks.csv\",encoding=\"utf-8\", index_col=0)\n",
    "artworks.head(1)"
   ]
  },
  {
   "cell_type": "code",
   "execution_count": 37,
   "id": "0e271ce3-15a0-4f90-9cfb-118ead0c5ceb",
   "metadata": {},
   "outputs": [],
   "source": [
    "#ARTWORKS\n",
    "\n",
    "for index, row in artworks.iterrows():\n",
    "    #Artwork URI\n",
    "    idU = row['img']\n",
    "    #node\n",
    "    Artwork = URIRef(PGT[idU])\n",
    "    #triple\n",
    "    g.add((Artwork, RDF.type, PGT.Artwork))\n",
    "    g.add((Artwork, PGT['name'], Literal(row['name'], datatype=XSD.string)))    \n",
    "    g.add((Artwork, PGT['type'], Literal(row['tags'], datatype=XSD.string)))  \n",
    "    g.add((Artwork, PGT['author'], Literal(row['Autore'], datatype=XSD.string)))    \n",
    "    g.add((Artwork, PGT['height'], Literal(row['Altezza'], datatype=XSD.float)))    \n",
    "    g.add((Artwork, PGT['width'], Literal(row['Larghezza'], datatype=XSD.float)))    \n",
    "    g.add((Artwork, PGT['period'], Literal(row['Cronologia'], datatype=XSD.string)))\n",
    "    g.add((Artwork, PGT['placing'], Literal(row['Collocazione'], datatype=XSD.string)))    \n",
    "    g.add((Artwork, PGT['conservationState'], Literal(row['Stato di conservazione'], datatype=XSD.string)))    \n",
    "    g.add((Artwork, PGT['technique'], Literal(row['Materiale e Tecnica'], datatype=XSD.string)))\n",
    "    g.add((Artwork, PGT['webImageAdress'], Literal(row['img'], datatype=XSD.string)))    \n",
    "    g.add((Artwork, PGT['description'], Literal(row['description'], datatype=XSD.string)))    \n",
    "    #g.add((Artwork, PGT['museumName'], Literal(row['museumName'], datatype=XSD.string)))"
   ]
  },
  {
   "cell_type": "code",
   "execution_count": 38,
   "id": "bd913820-3d70-4776-a67e-5aa9f223e043",
   "metadata": {},
   "outputs": [
    {
     "data": {
      "text/plain": [
       "<Graph identifier=Nec10ccad36ff41f1835621115f9cf094 (<class 'rdflib.graph.Graph'>)>"
      ]
     },
     "execution_count": 38,
     "metadata": {},
     "output_type": "execute_result"
    }
   ],
   "source": [
    "g.serialize(destination=savePath+\"artworks.txt\", format='turtle')"
   ]
  },
  {
   "cell_type": "code",
   "execution_count": 39,
   "id": "7d4d7dcf-4a0d-46af-9181-05719c958b81",
   "metadata": {},
   "outputs": [
    {
     "data": {
      "text/plain": [
       "Index(['name', 'img', 'description'], dtype='object')"
      ]
     },
     "execution_count": 39,
     "metadata": {},
     "output_type": "execute_result"
    }
   ],
   "source": [
    "df_museums.columns"
   ]
  },
  {
   "cell_type": "code",
   "execution_count": null,
   "id": "053cbd1a-5511-43da-9c9c-af560b0805f5",
   "metadata": {},
   "outputs": [],
   "source": [
    "#MUSEUMS\n",
    "\n",
    "for index, row in museums.iterrows():\n",
    "    idU = row['img']\n",
    "    Museum = URIRef(PGT[idU])\n",
    "    g.add((Museum, RDF.type, PGT.Museum))\n",
    "    g.add((Museum, PGT['description'], Literal(row['description'], datatype=XSD.string)))    \n",
    "    g.add((Museum, PGT['webImageAdress'], Literal(row['img'], datatype=XSD.string)))    \n"
   ]
  },
  {
   "cell_type": "code",
   "execution_count": null,
   "id": "e837f37e-65a0-42c1-a936-cceb62a24263",
   "metadata": {},
   "outputs": [
    {
     "data": {
      "text/plain": [
       "<Graph identifier=Ne953619ce09c4a5aa293e949601d2f96 (<class 'rdflib.graph.Graph'>)>"
      ]
     },
     "execution_count": 16,
     "metadata": {},
     "output_type": "execute_result"
    }
   ],
   "source": [
    "g.serialize(destination=savePath+\"museums.txt\", format='turtle')"
   ]
  }
 ],
 "metadata": {
  "kernelspec": {
   "display_name": "Python 3 (ipykernel)",
   "language": "python",
   "name": "python3"
  },
  "language_info": {
   "codemirror_mode": {
    "name": "ipython",
    "version": 3
   },
   "file_extension": ".py",
   "mimetype": "text/x-python",
   "name": "python",
   "nbconvert_exporter": "python",
   "pygments_lexer": "ipython3",
   "version": "3.9.7"
  }
 },
 "nbformat": 4,
 "nbformat_minor": 5
}
