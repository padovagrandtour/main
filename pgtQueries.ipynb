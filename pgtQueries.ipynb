{
 "cells": [
  {
   "cell_type": "markdown",
   "metadata": {},
   "source": [
    "# Padova Grand Tour - Queries\n",
    "\n",
    "This notebook will provide ten insightful queries about our data. Get started by starting GraphDB with `docker compose up --force-recreate`.\n"
   ]
  },
  {
   "cell_type": "markdown",
   "metadata": {},
   "source": [
    "Sparql wrapper (copy and pasted from the Individual Project's notebooks):"
   ]
  },
  {
   "cell_type": "code",
   "execution_count": 79,
   "metadata": {},
   "outputs": [],
   "source": [
    "\n",
    "from SPARQLWrapper import SPARQLWrapper, JSON\n",
    "\n",
    "# Taken from `data/ttlData/ontology.ttl`\n",
    "prefixString = \"\"\"\n",
    "PREFIX : <https://padovagrandtour.github.io/entitites#> \n",
    "PREFIX owl: <http://www.w3.org/2002/07/owl#> \n",
    "PREFIX pgt: <https://padovagrandtour.github.io/entitites#> \n",
    "PREFIX rdf: <http://www.w3.org/1999/02/22-rdf-syntax-ns#> \n",
    "PREFIX xml: <http://www.w3.org/XML/1998/namespace> \n",
    "PREFIX xsd: <http://www.w3.org/2001/XMLSchema#> \n",
    "PREFIX rdfs: <http://www.w3.org/2000/01/rdf-schema#> \n",
    "\"\"\"\n",
    "\n",
    "# select and construct queries\n",
    "def run_query(queryString):\n",
    "    to_run = prefixString + \"\\n\" + queryString\n",
    "\n",
    "    # Our local endpoint, the repo name is defined in `data/graphdb-repo.ttl` \n",
    "    sparql = SPARQLWrapper(\"http://localhost:7210/repositories/pgt\") \n",
    "    sparql.setTimeout(300)\n",
    "    sparql.setReturnFormat(JSON)\n",
    "    sparql.setQuery(to_run)\n",
    "\n",
    "    try :\n",
    "        results = sparql.query()\n",
    "        json_results = results.convert()\n",
    "        if len(json_results['results']['bindings'])==0:\n",
    "            print(\"Empty\")\n",
    "            return []\n",
    "        array = []\n",
    "        for bindings in json_results['results']['bindings']:\n",
    "            app =  [ (var, value['value'])  for var, value in bindings.items() ] \n",
    "            array.append(app)\n",
    "        print(len(array)) # Print the array length\n",
    "        return array\n",
    "\n",
    "    except Exception as e :\n",
    "        print(\"The operation failed\", e)\n",
    "    "
   ]
  },
  {
   "cell_type": "code",
   "execution_count": 80,
   "metadata": {},
   "outputs": [],
   "source": [
    "# Improved version that also handles prefixes\n",
    "mappedPrefixes = {}\n",
    "for prefix in prefixString.split('\\n'):\n",
    "    if('PREFIX' in prefix):\n",
    "        prefix = prefix.replace('PREFIX', '', 1).split(':', 1)\n",
    "        mappedPrefixes[prefix[0].strip()] = prefix[1].strip().replace('<','').replace('>','')\n",
    "\n",
    "def query(queryString):\n",
    "    queryResults = run_query(queryString)\n",
    "    for queryIndex, queryResultRaw in enumerate(queryResults):\n",
    "        for subQueryIndex, subQueryResultRaw in enumerate(queryResultRaw):\n",
    "            queryResult = queryResultRaw[subQueryIndex][1]\n",
    "            for prefixName, prefixValue in mappedPrefixes.items():\n",
    "                queryResult = queryResult.replace(prefixValue, prefixName + ':')\n",
    "\n",
    "            queryResults[queryIndex][subQueryIndex] = (queryResultRaw[subQueryIndex][0], queryResult)\n",
    "\n",
    "    return queryResults\n"
   ]
  },
  {
   "cell_type": "markdown",
   "metadata": {},
   "source": [
    "Check if everything works:"
   ]
  },
  {
   "cell_type": "code",
   "execution_count": 81,
   "metadata": {},
   "outputs": [
    {
     "name": "stdout",
     "output_type": "stream",
     "text": [
      "3\n"
     ]
    },
    {
     "data": {
      "text/plain": [
       "[[('s', 'rdf:type'), ('p', 'rdf:type'), ('o', 'rdf:Property')],\n",
       " [('s', 'rdfs:subPropertyOf'), ('p', 'rdf:type'), ('o', 'rdf:Property')],\n",
       " [('s', 'rdfs:subPropertyOf'),\n",
       "  ('p', 'rdf:type'),\n",
       "  ('o', 'owl:TransitiveProperty')]]"
      ]
     },
     "execution_count": 81,
     "metadata": {},
     "output_type": "execute_result"
    }
   ],
   "source": [
    "query(\"\"\"\n",
    "select distinct * {\n",
    "    ?s ?p ?o\n",
    "}\n",
    "LIMIT 3\n",
    "\"\"\")\n"
   ]
  },
  {
   "cell_type": "code",
   "execution_count": null,
   "metadata": {},
   "outputs": [],
   "source": []
  }
 ],
 "metadata": {
  "kernelspec": {
   "display_name": "Python 3.10.6 64-bit",
   "language": "python",
   "name": "python3"
  },
  "language_info": {
   "codemirror_mode": {
    "name": "ipython",
    "version": 3
   },
   "file_extension": ".py",
   "mimetype": "text/x-python",
   "name": "python",
   "nbconvert_exporter": "python",
   "pygments_lexer": "ipython3",
   "version": "3.10.6"
  },
  "orig_nbformat": 4,
  "vscode": {
   "interpreter": {
    "hash": "916dbcbb3f70747c44a77c7bcd40155683ae19c65e1c03b4aa3499c5328201f1"
   }
  }
 },
 "nbformat": 4,
 "nbformat_minor": 2
}
