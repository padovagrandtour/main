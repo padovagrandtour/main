{
 "cells": [
  {
   "cell_type": "markdown",
   "metadata": {},
   "source": [
    "# Padova Grand Tour - Sparql Ingester\n",
    "\n",
    "This notebook will generate a `sparql.ttl` turtle file with the data obtained by the `sparql/SparqlRetriever.ipynb` notebook."
   ]
  },
  {
   "cell_type": "markdown",
   "metadata": {},
   "source": [
    "Setup graph:"
   ]
  },
  {
   "cell_type": "code",
   "execution_count": 91,
   "metadata": {},
   "outputs": [],
   "source": [
    "import os\n",
    "from pathlib import Path\n",
    "\n",
    "from rdflib import Graph, Literal, RDF, URIRef, Namespace\n",
    "# rdflib knows about some namespaces, like FOAF, XSD, schema.org\n",
    "from rdflib.namespace import FOAF, XSD, SDO\n",
    "from rdflib.collection import Collection\n",
    "\n",
    "# Main namespace\n",
    "PGT = Namespace(\"https://padovagrandtour.github.io/entitites#\")\n",
    "# Be careful! the \"simple GEO\" namespace is not the same as the \"advanced GEO\" namespace exported by rdflib\n",
    "GEO = Namespace(\"http://www.w3.org/2003/01/geo/wgs84_pos#\")\n",
    "\n",
    "# Saving folder\n",
    "savePath =  path + \"/data/ttlData/\"\n",
    "os.makedirs(savePath, exist_ok=True)\n",
    "\n",
    "\n",
    "# Bind namespaces\n",
    "g = Graph()\n",
    "\n",
    "g.bind(\"foaf\", FOAF)\n",
    "g.bind(\"xsd\", XSD)\n",
    "g.bind(\"pgt\", PGT)\n",
    "g.bind(\"sdo\", SDO)\n",
    "g.bind(\"geo\", GEO)\n"
   ]
  },
  {
   "cell_type": "code",
   "execution_count": 92,
   "metadata": {},
   "outputs": [],
   "source": [
    "import json\n",
    "# Read Json files\n",
    "with open(path + '/sparql/categories.json') as f:\n",
    "    categoriesJSON = json.load(f)\n",
    "\n",
    "with open(path + '/sparql/museumProperties.json') as f:\n",
    "    museumPropertiesJSON = json.load(f)\n",
    "\n",
    "with open(path + '/sparql/museumThings.json') as f:\n",
    "    museumThingsJSON = json.load(f)\n",
    "\n",
    "with open(path + '/sparql/properties.json') as f:\n",
    "    propertiesJSON = json.load(f)\n",
    "\n",
    "with open(path + '/sparql/things.json') as f:\n",
    "    thingsJSON = json.load(f)\n"
   ]
  },
  {
   "cell_type": "code",
   "execution_count": 93,
   "metadata": {},
   "outputs": [],
   "source": [
    "# Add to graph while doing standard normalizations\n",
    "def addToG(subject, predicate, obj, key, datatype):\n",
    "    try: # Catch keyerrors\n",
    "        if(obj[key] == obj[key]):   # check for NaN values\n",
    "            if(datatype == XSD.string):\n",
    "                g.add((subject, predicate, Literal(obj[key].strip(), datatype=datatype)))   \n",
    "            elif(datatype == XSD.float):\n",
    "                # change italian commas , to international point . for number\n",
    "                g.add((subject, predicate, Literal(obj[key].strip().replace(\",\", \".\"), datatype=datatype)))   \n",
    "            else:\n",
    "                g.add((subject, predicate, Literal(obj[key], datatype=datatype)))    \n",
    "    except Exception as e:\n",
    "        pass\n"
   ]
  },
  {
   "cell_type": "code",
   "execution_count": 94,
   "metadata": {},
   "outputs": [
    {
     "name": "stdout",
     "output_type": "stream",
     "text": [
      "inserting http://dati.beniculturali.it/iccd/cf/resource/CulturalInstituteOrSite/1469799782221 Palazzo Folco\n",
      "inserting https://w3id.org/arco/resource/Site/7cd721378d4eed24c5285df08594b4fc Palazzo Dolco\n",
      "inserting http://dati.beniculturali.it/iccd/cf/resource/CulturalInstituteOrSite/1469744914369 Convento degli Eremitani\n",
      "inserting https://w3id.org/arco/resource/Site/62a37ce270999c1ee4b1ba1cb472939b Università di Padova\n",
      "inserting http://dati.beniculturali.it/iccd/cf/resource/CulturalInstituteOrSite/ICCD_CF_8076015143451 Palazzina del prefetto (ex)\n",
      "inserting http://dati.beniculturali.it/iccd/cf/resource/CulturalInstituteOrSite/ICCD_CF_6156344978451 Complesso Ingegneria\n",
      "inserting http://dati.beniculturali.it/iccd/cf/resource/CulturalInstituteOrSite/ICCD_CF_4223302714451 Palazzo ECA (ex)\n",
      "inserting http://dati.beniculturali.it/iccd/cf/resource/CulturalInstituteOrSite/ICCD_CF_0160885714451 Complesso Cavalli\n",
      "skipping (already inserted) Complesso Cavalli\n",
      "inserting http://dati.beniculturali.it/iccd/cf/resource/CulturalInstituteOrSite/ICCD_CF_6551585915161 Palazzo Wollemborg\n"
     ]
    }
   ],
   "source": [
    "museumURLDict = {}\n",
    "museumNameDict = {}\n",
    "\n",
    "\n",
    "SITEindex = 0\n",
    "\n",
    "\n",
    "\n",
    "\n",
    "for museumURL, siteData in museumPropertiesJSON.items():\n",
    "    museumData = {}\n",
    "    for [akey, aval] in siteData[0]:\n",
    "        museumData[akey] = aval\n",
    "    \n",
    "    if(museumData['name'] in museumNameDict.keys()):\n",
    "        print(\"skipping (already inserted)\", museumData['name'])\n",
    "        museumURLDict[museumURL] = museumNameDict[museumData['name']]\n",
    "    else:\n",
    "\n",
    "        # Setup museum node\n",
    "        museumURLDict[museumURL] = \"SITEsq\" +  str(SITEindex)\n",
    "        museumNameDict[museumData['name']] = \"SITEsq\" +  str(SITEindex)\n",
    "        print(\"inserting\", museumURL, museumData['name'])\n",
    "        Museum = URIRef(PGT[\"SITEsq\" +  str(SITEindex)])\n",
    "        SITEindex = SITEindex + 1\n",
    "        g.add((Museum, RDF.type, PGT.Museum))\n",
    "\n",
    "        # Add museum properties\n",
    "        g.add((Museum, SDO.url, Literal(museumURL, datatype=SDO.URL)))  \n",
    "        addToG(Museum, SDO.name, museumData, 'name', datatype=XSD.string)\n",
    "        addToG(Museum, SDO.description, museumData, 'desc', datatype=RDF.HTML)\n",
    "        addToG(Museum, SDO.image, museumData, 'img', datatype=SDO.URL)\n",
    "        addToG(Museum, GEO['lat'], museumData, 'lat', datatype=XSD.float)\n",
    "        addToG(Museum, GEO['long'], museumData, 'long', datatype=XSD.float)\n",
    "\n"
   ]
  },
  {
   "cell_type": "code",
   "execution_count": 95,
   "metadata": {},
   "outputs": [
    {
     "name": "stderr",
     "output_type": "stream",
     "text": [
      "Failed to convert Literal lexical form to value. Datatype=http://www.w3.org/2001/XMLSchema#float, Converter=<class 'float'>\n",
      "Traceback (most recent call last):\n",
      "  File \"/home/luca-fabbian/.local/lib/python3.10/site-packages/rdflib/term.py\", line 2084, in _castLexicalToPython\n",
      "    return conv_func(lexical)  # type: ignore[arg-type]\n",
      "ValueError: could not convert string to float: '16-23'\n",
      "Failed to convert Literal lexical form to value. Datatype=http://www.w3.org/2001/XMLSchema#float, Converter=<class 'float'>\n",
      "Traceback (most recent call last):\n",
      "  File \"/home/luca-fabbian/.local/lib/python3.10/site-packages/rdflib/term.py\", line 2084, in _castLexicalToPython\n",
      "    return conv_func(lexical)  # type: ignore[arg-type]\n",
      "ValueError: could not convert string to float: '8-11'\n"
     ]
    }
   ],
   "source": [
    "\n",
    "ARTWORKindex = 0\n",
    "\n",
    "\n",
    "for artworkURL, artworkRawData in propertiesJSON.items():\n",
    "    artworkData = {}\n",
    "    for [akey, aval] in artworkRawData[0]:\n",
    "        artworkData[akey] = aval\n",
    "   \n",
    "\n",
    "    # Setup museum node\n",
    "    Artwork = URIRef(PGT[\"ARTWORKsq\" +  str(ARTWORKindex)])\n",
    "    ARTWORKindex = ARTWORKindex + 1\n",
    "    g.add((Artwork, RDF.type, PGT.Artwork))\n",
    "\n",
    "    # Add museum properties\n",
    "    g.add((Artwork, SDO.url, Literal(artworkURL, datatype=SDO.URL)))  \n",
    "    addToG(Artwork, SDO.name, artworkData, 'name', datatype=XSD.string)\n",
    "\n",
    "    # Description (just pick the longest one)\n",
    "    bestDesc = \"\"\n",
    "    if((\"desc\" in artworkData) and (artworkData['desc'] == artworkData['desc']) and len(artworkData['desc']) > len(bestDesc)):\n",
    "        bestDesc = artworkData['desc']\n",
    "    \n",
    "    if((\"desc2\" in artworkData) and (artworkData['desc2'] == artworkData['desc2']) and len(artworkData['desc2']) > len(bestDesc)):\n",
    "        bestDesc = artworkData['desc2']\n",
    "\n",
    "    if((\"desc3\" in artworkData) and (artworkData['desc3'] == artworkData['desc3']) and len(artworkData['desc3']) > len(bestDesc)):\n",
    "        bestDesc = artworkData['desc3']\n",
    "\n",
    "    if(len(bestDesc) > 0): g.add((Artwork, SDO.description, Literal(bestDesc, datatype=RDF.HTML)))  \n",
    "\n",
    "\n",
    "    # Img (just pick the longest one)\n",
    "    bestImg = \"\"\n",
    "    if((\"img\" in artworkData) and (artworkData['img'] == artworkData['img']) and len(artworkData['img']) > len(bestImg)):\n",
    "        bestImg = artworkData['img']\n",
    "    \n",
    "    if((\"img2\" in artworkData) and (artworkData['img2'] == artworkData['img2']) and len(artworkData['img2']) > len(bestImg)):\n",
    "        bestImg = artworkData['img2']\n",
    "\n",
    "    if((\"img3\" in artworkData) and (artworkData['img3'] == artworkData['img3']) and len(artworkData['img3']) > len(bestImg)):\n",
    "        bestImg = artworkData['img3']\n",
    "\n",
    "    if(len(bestImg) > 0): g.add((Artwork, SDO.image, Literal(bestImg, datatype=SDO.URL)))  \n",
    "\n",
    "    # This will never fail, due to the way we selected the data in the first place\n",
    "    # i.e., we are just considering artwork with an existing site in Padova \n",
    "    g.add((Artwork, PGT['hasSite'], URIRef(PGT[museumURLDict[artworkData['site']]])))\n",
    "\n",
    "    addToG(Artwork, PGT['conservationState'], artworkData, 'conservation', datatype=XSD.string)\n",
    "    addToG(Artwork, SDO.material, artworkData, 'material', datatype=XSD.string)\n",
    "\n",
    "    if(('tag' in artworkData) and (artworkData['tag'] == artworkData['tag']) and (len(artworkData['tag']) > 0)):\n",
    "        g.add((Artwork, PGT['tag'], Literal(artworkData['tag'].strip().lower().replace(\"/ \", \"/\"), datatype=XSD.string)))  \n",
    "\n",
    "    addToG(Artwork, PGT['width'], artworkData, 'width', datatype=XSD.float)\n",
    "    addToG(Artwork, PGT['length'], artworkData, 'length', datatype=XSD.float)\n",
    "    addToG(Artwork, PGT['height'], artworkData, 'height', datatype=XSD.float)\n",
    "    addToG(Artwork, PGT['diameter'], artworkData, 'diameter', datatype=XSD.float)\n",
    "    addToG(Artwork, PGT['thickness'], artworkData, 'thickness', datatype=XSD.float)\n",
    "    addToG(Artwork, PGT['depth'], artworkData, 'depth', datatype=XSD.float)\n",
    "\n",
    "\n",
    "\n"
   ]
  },
  {
   "cell_type": "code",
   "execution_count": 96,
   "metadata": {},
   "outputs": [
    {
     "name": "stderr",
     "output_type": "stream",
     "text": [
      "/home/luca-fabbian/.local/lib/python3.10/site-packages/rdflib/term.py:1578: UserWarning: Serializing weird numerical rdflib.term.Literal('16-23', datatype=rdflib.term.URIRef('http://www.w3.org/2001/XMLSchema#float'))\n",
      "  warnings.warn(\"Serializing weird numerical %r\" % self)\n",
      "/home/luca-fabbian/.local/lib/python3.10/site-packages/rdflib/term.py:1578: UserWarning: Serializing weird numerical rdflib.term.Literal('8-11', datatype=rdflib.term.URIRef('http://www.w3.org/2001/XMLSchema#float'))\n",
      "  warnings.warn(\"Serializing weird numerical %r\" % self)\n"
     ]
    },
    {
     "data": {
      "text/plain": [
       "<Graph identifier=N28b9996c3fb64a869fa8e4d9904caa28 (<class 'rdflib.graph.Graph'>)>"
      ]
     },
     "execution_count": 96,
     "metadata": {},
     "output_type": "execute_result"
    }
   ],
   "source": [
    "\n",
    "\n",
    "g.serialize(destination=savePath+\"sparql.ttl\", format='turtle')\n"
   ]
  }
 ],
 "metadata": {
  "kernelspec": {
   "display_name": "Python 3.10.6 64-bit",
   "language": "python",
   "name": "python3"
  },
  "language_info": {
   "codemirror_mode": {
    "name": "ipython",
    "version": 3
   },
   "file_extension": ".py",
   "mimetype": "text/x-python",
   "name": "python",
   "nbconvert_exporter": "python",
   "pygments_lexer": "ipython3",
   "version": "3.10.6"
  },
  "orig_nbformat": 4,
  "vscode": {
   "interpreter": {
    "hash": "916dbcbb3f70747c44a77c7bcd40155683ae19c65e1c03b4aa3499c5328201f1"
   }
  }
 },
 "nbformat": 4,
 "nbformat_minor": 2
}
