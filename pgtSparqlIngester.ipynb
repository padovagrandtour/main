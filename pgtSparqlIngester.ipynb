{
 "cells": [
  {
   "cell_type": "markdown",
   "metadata": {},
   "source": [
    "# Padova Grand Tour - Sparql Ingester\n",
    "\n",
    "This notebook will generate a `sparql.ttl` turtle file with the data obtained by the `sparql/SparqlRetriever.ipynb` notebook."
   ]
  },
  {
   "cell_type": "markdown",
   "metadata": {},
   "source": [
    "Setup graph:"
   ]
  },
  {
   "cell_type": "code",
   "execution_count": 26,
   "metadata": {},
   "outputs": [],
   "source": [
    "import os\n",
    "from pathlib import Path\n",
    "\n",
    "from rdflib import Graph, Literal, RDF, URIRef, Namespace\n",
    "# rdflib knows about some namespaces, like FOAF, XSD, schema.org\n",
    "from rdflib.namespace import FOAF, XSD, SDO\n",
    "from rdflib.collection import Collection\n",
    "\n",
    "# Main namespace\n",
    "PGT = Namespace(\"https://padovagrandtour.github.io/entitites#\")\n",
    "# Be careful! the \"simple GEO\" namespace is not the same as the \"advanced GEO\" namespace exported by rdflib\n",
    "GEO = Namespace(\"http://www.w3.org/2003/01/geo/wgs84_pos#\")\n",
    "\n",
    "# Saving folder\n",
    "savePath =  path + \"/data/ttlData/\"\n",
    "os.makedirs(savePath, exist_ok=True)\n",
    "\n",
    "\n",
    "# Bind namespaces\n",
    "g = Graph()\n",
    "\n",
    "g.bind(\"foaf\", FOAF)\n",
    "g.bind(\"xsd\", XSD)\n",
    "g.bind(\"pgt\", PGT)\n",
    "g.bind(\"sdo\", SDO)\n",
    "g.bind(\"geo\", GEO)\n"
   ]
  },
  {
   "cell_type": "code",
   "execution_count": 27,
   "metadata": {},
   "outputs": [],
   "source": [
    "import json\n",
    "# Read Json files\n",
    "with open(path + '/sparql/categories.json') as f:\n",
    "    categoriesJSON = json.load(f)\n",
    "\n",
    "with open(path + '/sparql/museumProperties.json') as f:\n",
    "    museumPropertiesJSON = json.load(f)\n",
    "\n",
    "with open(path + '/sparql/museumThings.json') as f:\n",
    "    museumThingsJSON = json.load(f)\n",
    "\n",
    "with open(path + '/sparql/properties.json') as f:\n",
    "    propertiesJSON = json.load(f)\n",
    "\n",
    "with open(path + '/sparql/things.json') as f:\n",
    "    thingsJSON = json.load(f)\n"
   ]
  },
  {
   "cell_type": "code",
   "execution_count": 28,
   "metadata": {},
   "outputs": [],
   "source": [
    "# Add to graph while doing standard normalizations\n",
    "def addToG(subject, predicate, obj, key, datatype):\n",
    "    try: # Catch keyerrors\n",
    "        if(obj[key] == obj[key]):   # check for NaN values\n",
    "            if(datatype == XSD.string):\n",
    "                g.add((subject, predicate, Literal(obj[key].strip(), datatype=datatype)))    \n",
    "            else:\n",
    "                g.add((subject, predicate, Literal(obj[key], datatype=datatype)))    \n",
    "    except Exception as e:\n",
    "        pass"
   ]
  },
  {
   "cell_type": "code",
   "execution_count": 29,
   "metadata": {},
   "outputs": [
    {
     "name": "stdout",
     "output_type": "stream",
     "text": [
      "inserting http://dati.beniculturali.it/iccd/cf/resource/CulturalInstituteOrSite/1469799782221 Palazzo Folco\n",
      "inserting https://w3id.org/arco/resource/Site/7cd721378d4eed24c5285df08594b4fc Palazzo Dolco\n",
      "inserting http://dati.beniculturali.it/iccd/cf/resource/CulturalInstituteOrSite/1469744914369 Convento degli Eremitani\n",
      "inserting https://w3id.org/arco/resource/Site/62a37ce270999c1ee4b1ba1cb472939b Università di Padova\n",
      "inserting http://dati.beniculturali.it/iccd/cf/resource/CulturalInstituteOrSite/ICCD_CF_8076015143451 Palazzina del prefetto (ex)\n",
      "inserting http://dati.beniculturali.it/iccd/cf/resource/CulturalInstituteOrSite/ICCD_CF_6156344978451 Complesso Ingegneria\n",
      "inserting http://dati.beniculturali.it/iccd/cf/resource/CulturalInstituteOrSite/ICCD_CF_4223302714451 Palazzo ECA (ex)\n",
      "inserting http://dati.beniculturali.it/iccd/cf/resource/CulturalInstituteOrSite/ICCD_CF_0160885714451 Complesso Cavalli\n",
      "asdsfgdsa Complesso Cavalli\n",
      "inserting http://dati.beniculturali.it/iccd/cf/resource/CulturalInstituteOrSite/ICCD_CF_6551585915161 Palazzo Wollemborg\n"
     ]
    }
   ],
   "source": [
    "museumURLDict = {}\n",
    "museumNameDict = {}\n",
    "\n",
    "\n",
    "SITEindex = 0\n",
    "\n",
    "\n",
    "\n",
    "\n",
    "for museumURL, siteData in museumPropertiesJSON.items():\n",
    "    museumData = {}\n",
    "    for [akey, aval] in siteData[0]:\n",
    "        museumData[akey] = aval\n",
    "    \n",
    "    if(museumData['name'] in museumNameDict.keys()):\n",
    "        print(\"skipping (already inserted)\", museumData['name'])\n",
    "        museumURLDict[museumURL] = museumNameDict[museumData['name']]\n",
    "    else:\n",
    "\n",
    "        # Setup museum node\n",
    "        museumURLDict[museumURL] = \"SITEsq\" +  str(SITEindex)\n",
    "        museumNameDict[museumData['name']] = \"SITEsq\" +  str(SITEindex)\n",
    "        print(\"inserting\", museumURL, museumData['name'])\n",
    "        Museum = URIRef(PGT[\"SITEsq\" +  str(SITEindex)])\n",
    "        SITEindex = SITEindex + 1\n",
    "        g.add((Museum, RDF.type, PGT.Museum))\n",
    "\n",
    "        # Add museum properties\n",
    "        g.add((Museum, SDO.url, Literal(museumURL, datatype=SDO.URL)))  \n",
    "        addToG(Museum, SDO.name, museumData, 'name', datatype=XSD.string)\n",
    "        addToG(Museum, SDO.description, museumData, 'desc', datatype=RDF.HTML)\n",
    "        addToG(Museum, SDO.image, museumData, 'img', datatype=SDO.URL)\n",
    "        addToG(Museum, GEO['lat'], museumData, 'lat', datatype=XSD.float)\n",
    "        addToG(Museum, GEO['long'], museumData, 'long', datatype=XSD.float)\n",
    "\n"
   ]
  },
  {
   "cell_type": "code",
   "execution_count": 30,
   "metadata": {},
   "outputs": [
    {
     "data": {
      "text/plain": [
       "<Graph identifier=Nbe47ed4119394b48bd5e764154819f5c (<class 'rdflib.graph.Graph'>)>"
      ]
     },
     "execution_count": 30,
     "metadata": {},
     "output_type": "execute_result"
    }
   ],
   "source": [
    "\n",
    "\n",
    "g.serialize(destination=savePath+\"sparql.ttl\", format='turtle')\n"
   ]
  }
 ],
 "metadata": {
  "kernelspec": {
   "display_name": "Python 3.10.6 64-bit",
   "language": "python",
   "name": "python3"
  },
  "language_info": {
   "codemirror_mode": {
    "name": "ipython",
    "version": 3
   },
   "file_extension": ".py",
   "mimetype": "text/x-python",
   "name": "python",
   "nbconvert_exporter": "python",
   "pygments_lexer": "ipython3",
   "version": "3.10.6"
  },
  "orig_nbformat": 4,
  "vscode": {
   "interpreter": {
    "hash": "916dbcbb3f70747c44a77c7bcd40155683ae19c65e1c03b4aa3499c5328201f1"
   }
  }
 },
 "nbformat": 4,
 "nbformat_minor": 2
}
