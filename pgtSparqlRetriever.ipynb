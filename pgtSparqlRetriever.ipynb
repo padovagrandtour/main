{
 "cells": [
  {
   "cell_type": "markdown",
   "metadata": {},
   "source": [
    "# Padova Grand Tour - Sparql Retriever\n",
    "\n",
    "This notebook will generate a `sparql.ttl` turtle file with some demo tours."
   ]
  },
  {
   "cell_type": "markdown",
   "metadata": {},
   "source": [
    "Setup graph:"
   ]
  },
  {
   "cell_type": "code",
   "execution_count": null,
   "metadata": {},
   "outputs": [],
   "source": [
    "import os\n",
    "from pathlib import Path\n",
    "\n",
    "from rdflib import Graph, Literal, RDF, URIRef, Namespace\n",
    "# rdflib knows about some namespaces, like FOAF, XSD, schema.org\n",
    "from rdflib.namespace import FOAF, XSD, SDO\n",
    "from rdflib.collection import Collection\n",
    "\n",
    "# Main namespace\n",
    "PGT = Namespace(\"https://padovagrandtour.github.io/entitites#\")\n",
    "\n",
    "\n",
    "# Saving folder\n",
    "path = str(Path(os.path.abspath(os.getcwd())))\n",
    "savePath =  path + \"/data/ttlData/\"\n",
    "os.makedirs(savePath, exist_ok=True)\n",
    "\n",
    "\n",
    "# Bind namespaces\n",
    "g = Graph()\n",
    "\n",
    "g.bind(\"foaf\", FOAF)\n",
    "g.bind(\"xsd\", XSD)\n",
    "g.bind(\"pgt\", PGT)\n",
    "g.bind(\"sdo\", SDO)"
   ]
  },
  {
   "cell_type": "code",
   "execution_count": null,
   "metadata": {},
   "outputs": [],
   "source": [
    "\n",
    "\n",
    "g.serialize(destination=savePath+\"sparql.ttl\", format='turtle')\n"
   ]
  }
 ],
 "metadata": {
  "kernelspec": {
   "display_name": "Python 3.10.6 64-bit",
   "language": "python",
   "name": "python3"
  },
  "language_info": {
   "name": "python",
   "version": "3.10.6"
  },
  "orig_nbformat": 4,
  "vscode": {
   "interpreter": {
    "hash": "916dbcbb3f70747c44a77c7bcd40155683ae19c65e1c03b4aa3499c5328201f1"
   }
  }
 },
 "nbformat": 4,
 "nbformat_minor": 2
}
