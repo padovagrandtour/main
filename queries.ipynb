{
 "cells": [
  {
   "cell_type": "markdown",
   "metadata": {},
   "source": [
    "# Padova Grand Tour - Queries\n",
    "\n",
    "This notebook will provide ten insightful queries about our data. Get started by starting GraphDB with `docker compose up --force-recreate`.\n"
   ]
  },
  {
   "cell_type": "markdown",
   "metadata": {},
   "source": [
    "Sparql wrapper (copy and pasted from the Individual Project's notebooks):"
   ]
  },
  {
   "cell_type": "code",
   "execution_count": 36,
   "metadata": {},
   "outputs": [],
   "source": [
    "\n",
    "from SPARQLWrapper import SPARQLWrapper, JSON\n",
    "\n",
    "# Taken from `data/ttlData/ontology.ttl`\n",
    "prefixString = \"\"\"\n",
    "PREFIX owl: <http://www.w3.org/2002/07/owl#> \n",
    "PREFIX pgt: <https://padovagrandtour.github.io/entitites#> \n",
    "PREFIX rdf: <http://www.w3.org/1999/02/22-rdf-syntax-ns#> \n",
    "PREFIX xml: <http://www.w3.org/XML/1998/namespace> \n",
    "PREFIX xsd: <http://www.w3.org/2001/XMLSchema#> \n",
    "PREFIX sdo: <https://schema.org/>\n",
    "PREFIX geo: <http://www.w3.org/2003/01/geo/wgs84_pos#>\n",
    "PREFIX rdfs: <http://www.w3.org/2000/01/rdf-schema#> \n",
    "\"\"\"\n",
    "\n",
    "# select and construct queries\n",
    "def run_query(queryString):\n",
    "    to_run = prefixString + \"\\n\" + queryString\n",
    "\n",
    "    # Our local endpoint, the repo name is defined in `data/graphdb-repo.ttl` \n",
    "    sparql = SPARQLWrapper(\"http://localhost:7210/repositories/pgt\") \n",
    "    sparql.setTimeout(300)\n",
    "    sparql.setReturnFormat(JSON)\n",
    "    sparql.setQuery(to_run)\n",
    "\n",
    "    try :\n",
    "        results = sparql.query()\n",
    "        json_results = results.convert()\n",
    "        if len(json_results['results']['bindings'])==0:\n",
    "            print(\"Empty\")\n",
    "            return []\n",
    "        array = []\n",
    "        for bindings in json_results['results']['bindings']:\n",
    "            app =  [ (var, value['value'])  for var, value in bindings.items() ] \n",
    "            array.append(app)\n",
    "        print(len(array)) # Print the array length\n",
    "        return array\n",
    "\n",
    "    except Exception as e :\n",
    "        print(\"The operation failed\", e)\n",
    "    "
   ]
  },
  {
   "cell_type": "code",
   "execution_count": 37,
   "metadata": {},
   "outputs": [],
   "source": [
    "# Improved version that also handles prefixes\n",
    "mappedPrefixes = {}\n",
    "for prefix in prefixString.split('\\n'):\n",
    "    if('PREFIX' in prefix):\n",
    "        prefix = prefix.replace('PREFIX', '', 1).split(':', 1)\n",
    "        mappedPrefixes[prefix[0].strip()] = prefix[1].strip().replace('<','').replace('>','')\n",
    "\n",
    "def query(queryString, replacePrefixes=True):\n",
    "    queryResults = run_query(queryString)\n",
    "    if(replacePrefixes):\n",
    "        for queryIndex, queryResultRaw in enumerate(queryResults):\n",
    "            for subQueryIndex, subQueryResultRaw in enumerate(queryResultRaw):\n",
    "                queryResult = queryResultRaw[subQueryIndex][1]\n",
    "                for prefixName, prefixValue in mappedPrefixes.items():\n",
    "                    queryResult = queryResult.replace(prefixValue, prefixName + ':')\n",
    "\n",
    "                queryResults[queryIndex][subQueryIndex] = (queryResultRaw[subQueryIndex][0], queryResult)\n",
    "\n",
    "        return queryResults\n",
    "    else: return queryResults\n"
   ]
  },
  {
   "cell_type": "markdown",
   "metadata": {},
   "source": [
    "Check if everything works:"
   ]
  },
  {
   "cell_type": "code",
   "execution_count": 38,
   "metadata": {},
   "outputs": [
    {
     "name": "stdout",
     "output_type": "stream",
     "text": [
      "3\n"
     ]
    },
    {
     "data": {
      "text/plain": [
       "[[('s', 'rdf:type'), ('p', 'rdf:type'), ('o', 'rdf:Property')],\n",
       " [('s', 'rdf:type'), ('p', 'rdf:type'), ('o', 'rdfs:Resource')],\n",
       " [('s', 'rdf:Property'), ('p', 'rdf:type'), ('o', 'rdfs:Class')]]"
      ]
     },
     "execution_count": 38,
     "metadata": {},
     "output_type": "execute_result"
    }
   ],
   "source": [
    "query(\"\"\"\n",
    "select distinct * {\n",
    "    ?s ?p ?o\n",
    "}\n",
    "LIMIT 3\n",
    "\"\"\", replacePrefixes=True)\n"
   ]
  },
  {
   "cell_type": "markdown",
   "metadata": {},
   "source": [
    "## 1 - Get tour sites in order\n",
    "\n",
    "We would like to retrieve every site touched by a specific tour, with name and coordinates.\n",
    "\n",
    "If you just follow a naive approach, this is what you get:\n",
    "\n",
    "```\n",
    "[[('stepIndex', 'rdf:_1'), ('site', 'pgt:SITE1')],\n",
    " [('stepIndex', 'rdf:_10'), ('site', 'pgt:SITE10')],\n",
    " [('stepIndex', 'rdf:_11'), ('site', 'pgt:SITE11')],\n",
    " [('stepIndex', 'rdf:_12'), ('site', 'pgt:SITE12')],\n",
    " [('stepIndex', 'rdf:_13'), ('site', 'pgt:SITE13')],\n",
    " [('stepIndex', 'rdf:_14'), ('site', 'pgt:SITE14')],\n",
    " [('stepIndex', 'rdf:_15'), ('site', 'pgt:SITE15')],\n",
    " [('stepIndex', 'rdf:_2'), ('site', 'pgt:SITE2')],\n",
    " [('stepIndex', 'rdf:_3'), ('site', 'pgt:SITE3')],\n",
    " [('stepIndex', 'rdf:_4'), ('site', 'pgt:SITE4')],\n",
    " [('stepIndex', 'rdf:_5'), ('site', 'pgt:SITE5')],\n",
    " [('stepIndex', 'rdf:_6'), ('site', 'pgt:SITE6')],\n",
    " [('stepIndex', 'rdf:_7'), ('site', 'pgt:SITE7')],\n",
    " [('stepIndex', 'rdf:_8'), ('site', 'pgt:SITE8')],\n",
    " [('stepIndex', 'rdf:_9'), ('site', 'pgt:SITE9')]]\n",
    " ```\n",
    "\n",
    " This happens because rdf:_15 has a lower lexicographical order than rdf:_2. To get the right order, we need to strip the `rdf:` prefix and cast the result to integer."
   ]
  },
  {
   "cell_type": "code",
   "execution_count": 39,
   "metadata": {},
   "outputs": [
    {
     "name": "stdout",
     "output_type": "stream",
     "text": [
      "15\n"
     ]
    },
    {
     "data": {
      "text/plain": [
       "[[('stepIndexNumber', '1'),\n",
       "  ('siteName', 'Museo archeologico'),\n",
       "  ('siteLat', '45.41096111111111'),\n",
       "  ('siteLong', '11.880011111111111')],\n",
       " [('stepIndexNumber', '2'),\n",
       "  ('siteName', \"Museo d'Arte Medievale e Moderna\"),\n",
       "  ('siteLat', '45.41096111111111'),\n",
       "  ('siteLong', '11.880011111111111')],\n",
       " [('stepIndexNumber', '3'),\n",
       "  ('siteName', 'Museo Bottacin'),\n",
       "  ('siteLat', '45.411569444444446'),\n",
       "  ('siteLong', '11.878119444444446')],\n",
       " [('stepIndexNumber', '4'),\n",
       "  ('siteName', \"Museo del Risorgimento e dell'Età Contemporanea\"),\n",
       "  ('siteLat', '45.40784722222222'),\n",
       "  ('siteLong', '11.876925')],\n",
       " [('stepIndexNumber', '5'),\n",
       "  ('siteName', 'Museo di anatomia patologica (Padova)'),\n",
       "  ('siteLat', '45.405027777777775'),\n",
       "  ('siteLong', '11.8859')],\n",
       " [('stepIndexNumber', '6'),\n",
       "  ('siteName', 'Centro di Ateneo per i Musei - CAM')],\n",
       " [('stepIndexNumber', '7'),\n",
       "  ('siteName', 'Collezione privata Safilo'),\n",
       "  ('siteLat', '45.414833333333334'),\n",
       "  ('siteLong', '11.928894444444444')],\n",
       " [('stepIndexNumber', '8'),\n",
       "  ('siteName', 'Esapolis'),\n",
       "  ('siteLat', '45.39771944444444'),\n",
       "  ('siteLong', '11.834161111111111')],\n",
       " [('stepIndexNumber', '9'),\n",
       "  ('siteName', 'Museo veneto del giocattolo'),\n",
       "  ('siteLat', '45.37021388888889'),\n",
       "  ('siteLong', '11.830047222222221')],\n",
       " [('stepIndexNumber', '10'),\n",
       "  ('siteName', 'Museo antoniano'),\n",
       "  ('siteLat', '45.40136111111111'),\n",
       "  ('siteLong', '11.880069444444445')],\n",
       " [('stepIndexNumber', '11'),\n",
       "  ('siteName', 'Museo del precinema'),\n",
       "  ('siteLat', '45.40001111111111'),\n",
       "  ('siteLong', '11.875761111111112')],\n",
       " [('stepIndexNumber', '12'),\n",
       "  ('siteName', \"Museo dell'Educazione\"),\n",
       "  ('siteLat', '45.40576111111111'),\n",
       "  ('siteLong', '11.873130555555557')],\n",
       " [('stepIndexNumber', '13'), ('siteName', 'Museo di Antropologia (Padova)')],\n",
       " [('stepIndexNumber', '14'),\n",
       "  ('siteName', \"Museo di geografia dell'Università di Padova\"),\n",
       "  ('siteLat', '45.40496944444444'),\n",
       "  ('siteLong', '11.879111111111111')],\n",
       " [('stepIndexNumber', '15'),\n",
       "  ('siteName', \"Museo di storia della fisica dell'Università di Padova\"),\n",
       "  ('siteLat', '45.41043055555556'),\n",
       "  ('siteLong', '11.88576111111111')]]"
      ]
     },
     "execution_count": 39,
     "metadata": {},
     "output_type": "execute_result"
    }
   ],
   "source": [
    "query(\"\"\"\n",
    "SELECT ?stepIndexNumber ?siteName ?siteLat ?siteLong WHERE {\n",
    "\tpgt:TOUR0 pgt:steps ?stepNode .\n",
    "    ?stepNode ?stepIndex ?site .\n",
    "\n",
    "    BIND (strlen(\"http://www.w3.org/1999/02/22-rdf-syntax-ns#_\") AS ?prefixLength)\n",
    "    BIND (xsd:integer(SUBSTR(xsd:string(?stepIndex),?prefixLength + 1)) AS ?stepIndexNumber).\n",
    "\n",
    "    OPTIONAL{ ?site sdo:name ?siteName. }\n",
    "    OPTIONAL{ ?site geo:lat  ?siteLat.  }\n",
    "    OPTIONAL{ ?site geo:long ?siteLong. }\n",
    "\n",
    "\n",
    "} ORDER BY ?stepIndexNumber\n",
    "\n",
    "\"\"\")\n"
   ]
  },
  {
   "cell_type": "markdown",
   "metadata": {},
   "source": [
    "## 2 -"
   ]
  },
  {
   "cell_type": "code",
   "execution_count": 40,
   "metadata": {},
   "outputs": [
    {
     "name": "stdout",
     "output_type": "stream",
     "text": [
      "8\n"
     ]
    },
    {
     "data": {
      "text/plain": [
       "[[('site', 'pgt:SITE22')],\n",
       " [('site', 'pgt:SITE23')],\n",
       " [('site', 'pgt:SITE25')],\n",
       " [('site', 'pgt:SITE26')],\n",
       " [('site', 'pgt:SITE27')],\n",
       " [('site', 'pgt:SITE31')],\n",
       " [('site', 'pgt:SITE34')],\n",
       " [('site', 'pgt:SITE37')]]"
      ]
     },
     "execution_count": 40,
     "metadata": {},
     "output_type": "execute_result"
    }
   ],
   "source": [
    "query(\"\"\"\n",
    "SELECT DISTINCT ?site WHERE {\n",
    "    ?site a pgt:CulturalSite .\n",
    "    FILTER NOT EXISTS {\n",
    "        ?site geo:lat ?lat;\n",
    "              geo:long ?long.\n",
    "    }\n",
    "}\n",
    "\"\"\")\n",
    "\n"
   ]
  },
  {
   "cell_type": "markdown",
   "metadata": {},
   "source": [
    "## 3 -"
   ]
  },
  {
   "cell_type": "code",
   "execution_count": null,
   "metadata": {},
   "outputs": [],
   "source": []
  },
  {
   "cell_type": "markdown",
   "metadata": {},
   "source": [
    "## 4 -"
   ]
  },
  {
   "cell_type": "code",
   "execution_count": null,
   "metadata": {},
   "outputs": [],
   "source": []
  },
  {
   "cell_type": "markdown",
   "metadata": {},
   "source": [
    "## 5 -"
   ]
  },
  {
   "cell_type": "code",
   "execution_count": null,
   "metadata": {},
   "outputs": [],
   "source": []
  },
  {
   "cell_type": "markdown",
   "metadata": {},
   "source": [
    "## 6 -"
   ]
  },
  {
   "cell_type": "code",
   "execution_count": null,
   "metadata": {},
   "outputs": [],
   "source": []
  },
  {
   "cell_type": "markdown",
   "metadata": {},
   "source": [
    "## 7 -"
   ]
  },
  {
   "cell_type": "code",
   "execution_count": null,
   "metadata": {},
   "outputs": [],
   "source": []
  },
  {
   "cell_type": "markdown",
   "metadata": {},
   "source": [
    "## 8 -"
   ]
  },
  {
   "cell_type": "code",
   "execution_count": null,
   "metadata": {},
   "outputs": [],
   "source": []
  },
  {
   "cell_type": "markdown",
   "metadata": {},
   "source": [
    "## 9 -"
   ]
  },
  {
   "cell_type": "code",
   "execution_count": null,
   "metadata": {},
   "outputs": [],
   "source": []
  },
  {
   "cell_type": "markdown",
   "metadata": {},
   "source": [
    "## 10 -"
   ]
  },
  {
   "cell_type": "code",
   "execution_count": null,
   "metadata": {},
   "outputs": [],
   "source": []
  }
 ],
 "metadata": {
  "kernelspec": {
   "display_name": "Python 3.10.6 64-bit",
   "language": "python",
   "name": "python3"
  },
  "language_info": {
   "codemirror_mode": {
    "name": "ipython",
    "version": 3
   },
   "file_extension": ".py",
   "mimetype": "text/x-python",
   "name": "python",
   "nbconvert_exporter": "python",
   "pygments_lexer": "ipython3",
   "version": "3.10.6"
  },
  "orig_nbformat": 4,
  "vscode": {
   "interpreter": {
    "hash": "916dbcbb3f70747c44a77c7bcd40155683ae19c65e1c03b4aa3499c5328201f1"
   }
  }
 },
 "nbformat": 4,
 "nbformat_minor": 2
}
