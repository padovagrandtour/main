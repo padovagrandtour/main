{
 "cells": [
  {
   "cell_type": "markdown",
   "metadata": {},
   "source": [
    "# Padova Grand Tour - Queries\n",
    "\n",
    "This notebook will provide ten insightful queries about our data. Get started by starting GraphDB with `docker compose up --force-recreate`.\n"
   ]
  },
  {
   "cell_type": "markdown",
   "metadata": {},
   "source": [
    "Sparql wrapper (copy and pasted from the Individual Project's notebooks):"
   ]
  },
  {
   "cell_type": "code",
   "execution_count": 3,
   "metadata": {},
   "outputs": [],
   "source": [
    "\n",
    "from SPARQLWrapper import SPARQLWrapper, JSON\n",
    "\n",
    "# Taken from `data/ttlData/ontology.ttl`\n",
    "prefixString = \"\"\"\n",
    "PREFIX owl: <http://www.w3.org/2002/07/owl#> \n",
    "PREFIX pgt: <https://padovagrandtour.github.io/entitites#> \n",
    "PREFIX rdf: <http://www.w3.org/1999/02/22-rdf-syntax-ns#> \n",
    "PREFIX xml: <http://www.w3.org/XML/1998/namespace> \n",
    "PREFIX xsd: <http://www.w3.org/2001/XMLSchema#> \n",
    "PREFIX sdo: <https://schema.org/>\n",
    "PREFIX geo: <http://www.w3.org/2003/01/geo/wgs84_pos#>\n",
    "PREFIX rdfs: <http://www.w3.org/2000/01/rdf-schema#> \n",
    "\"\"\"\n",
    "\n",
    "# select and construct queries\n",
    "def run_query(queryString):\n",
    "    to_run = prefixString + \"\\n\" + queryString\n",
    "\n",
    "    # Our local endpoint, the repo name is defined in `data/graphdb-repo.ttl` \n",
    "    sparql = SPARQLWrapper(\"http://localhost:7210/repositories/pgt\") \n",
    "    sparql.setTimeout(300)\n",
    "    sparql.setReturnFormat(JSON)\n",
    "    sparql.setQuery(to_run)\n",
    "\n",
    "    try :\n",
    "        results = sparql.query()\n",
    "        json_results = results.convert()\n",
    "        if len(json_results['results']['bindings'])==0:\n",
    "            print(\"Empty\")\n",
    "            return []\n",
    "        array = []\n",
    "        for bindings in json_results['results']['bindings']:\n",
    "            app =  [ (var, value['value'])  for var, value in bindings.items() ] \n",
    "            array.append(app)\n",
    "        print(len(array)) # Print the array length\n",
    "        return array\n",
    "\n",
    "    except Exception as e :\n",
    "        print(\"The operation failed\", e)\n",
    "    "
   ]
  },
  {
   "cell_type": "code",
   "execution_count": 4,
   "metadata": {},
   "outputs": [],
   "source": [
    "# Improved version that also handles prefixes\n",
    "mappedPrefixes = {}\n",
    "for prefix in prefixString.split('\\n'):\n",
    "    if('PREFIX' in prefix):\n",
    "        prefix = prefix.replace('PREFIX', '', 1).split(':', 1)\n",
    "        mappedPrefixes[prefix[0].strip()] = prefix[1].strip().replace('<','').replace('>','')\n",
    "\n",
    "def query(queryString, replacePrefixes=True):\n",
    "    queryResults = run_query(queryString)\n",
    "    if(replacePrefixes):\n",
    "        for queryIndex, queryResultRaw in enumerate(queryResults):\n",
    "            for subQueryIndex, subQueryResultRaw in enumerate(queryResultRaw):\n",
    "                queryResult = queryResultRaw[subQueryIndex][1]\n",
    "                for prefixName, prefixValue in mappedPrefixes.items():\n",
    "                    queryResult = queryResult.replace(prefixValue, prefixName + ':')\n",
    "\n",
    "                queryResults[queryIndex][subQueryIndex] = (queryResultRaw[subQueryIndex][0], queryResult)\n",
    "\n",
    "        return queryResults\n",
    "    else: return queryResults\n"
   ]
  },
  {
   "cell_type": "markdown",
   "metadata": {},
   "source": [
    "Check if everything works:"
   ]
  },
  {
   "cell_type": "code",
   "execution_count": 5,
   "metadata": {},
   "outputs": [
    {
     "name": "stdout",
     "output_type": "stream",
     "text": [
      "3\n"
     ]
    },
    {
     "data": {
      "text/plain": [
       "[[('s', 'rdf:type'), ('p', 'rdf:type'), ('o', 'rdf:Property')],\n",
       " [('s', 'rdfs:subPropertyOf'), ('p', 'rdf:type'), ('o', 'rdf:Property')],\n",
       " [('s', 'rdfs:subPropertyOf'),\n",
       "  ('p', 'rdf:type'),\n",
       "  ('o', 'owl:TransitiveProperty')]]"
      ]
     },
     "execution_count": 5,
     "metadata": {},
     "output_type": "execute_result"
    }
   ],
   "source": [
    "query(\"\"\"\n",
    "select distinct * {\n",
    "    ?s ?p ?o\n",
    "}\n",
    "LIMIT 3\n",
    "\"\"\", replacePrefixes=True)\n"
   ]
  },
  {
   "cell_type": "markdown",
   "metadata": {},
   "source": [
    "## 1 - Get tour sites in order\n",
    "\n",
    "Let's start by .\n",
    "We would like to retrieve every site touched by a specific tour, with name and coordinates.\n",
    "\n",
    "If you just follow a naive approach, this is what you get:\n",
    "\n",
    "```\n",
    "[[('stepIndex', 'rdf:_1'), ('site', 'pgt:SITE1')],\n",
    " [('stepIndex', 'rdf:_10'), ('site', 'pgt:SITE10')],\n",
    " [('stepIndex', 'rdf:_11'), ('site', 'pgt:SITE11')],\n",
    " [('stepIndex', 'rdf:_12'), ('site', 'pgt:SITE12')],\n",
    " [('stepIndex', 'rdf:_13'), ('site', 'pgt:SITE13')],\n",
    " [('stepIndex', 'rdf:_14'), ('site', 'pgt:SITE14')],\n",
    " [('stepIndex', 'rdf:_15'), ('site', 'pgt:SITE15')],\n",
    " [('stepIndex', 'rdf:_2'), ('site', 'pgt:SITE2')],\n",
    " [('stepIndex', 'rdf:_3'), ('site', 'pgt:SITE3')],\n",
    " [('stepIndex', 'rdf:_4'), ('site', 'pgt:SITE4')],\n",
    " [('stepIndex', 'rdf:_5'), ('site', 'pgt:SITE5')],\n",
    " [('stepIndex', 'rdf:_6'), ('site', 'pgt:SITE6')],\n",
    " [('stepIndex', 'rdf:_7'), ('site', 'pgt:SITE7')],\n",
    " [('stepIndex', 'rdf:_8'), ('site', 'pgt:SITE8')],\n",
    " [('stepIndex', 'rdf:_9'), ('site', 'pgt:SITE9')]]\n",
    " ```\n",
    "\n",
    " This happens because `rdf:_15` has a lower lexicographical order than `rdf:_2`. To get the right order, we need to strip the `rdf:` prefix and cast the result to integer.\n",
    "\n",
    " We do not have name/lat/long for every site, some information are missing. To account for that, we use the `OPTIONAL` keyword."
   ]
  },
  {
   "cell_type": "code",
   "execution_count": 6,
   "metadata": {},
   "outputs": [
    {
     "name": "stdout",
     "output_type": "stream",
     "text": [
      "15\n"
     ]
    },
    {
     "data": {
      "text/plain": [
       "[[('stepIndexNumber', '1'),\n",
       "  ('siteName', 'Museo archeologico'),\n",
       "  ('siteLat', '45.41096111111111'),\n",
       "  ('siteLong', '11.880011111111111')],\n",
       " [('stepIndexNumber', '2'),\n",
       "  ('siteName', \"Museo d'Arte Medievale e Moderna\"),\n",
       "  ('siteLat', '45.41096111111111'),\n",
       "  ('siteLong', '11.880011111111111')],\n",
       " [('stepIndexNumber', '3'),\n",
       "  ('siteName', 'Museo Bottacin'),\n",
       "  ('siteLat', '45.411569444444446'),\n",
       "  ('siteLong', '11.878119444444446')],\n",
       " [('stepIndexNumber', '4'),\n",
       "  ('siteName', \"Museo del Risorgimento e dell'Età Contemporanea\"),\n",
       "  ('siteLat', '45.40784722222222'),\n",
       "  ('siteLong', '11.876925')],\n",
       " [('stepIndexNumber', '5'),\n",
       "  ('siteName', 'Museo di anatomia patologica (Padova)'),\n",
       "  ('siteLat', '45.405027777777775'),\n",
       "  ('siteLong', '11.8859')],\n",
       " [('stepIndexNumber', '6'),\n",
       "  ('siteName', 'Centro di Ateneo per i Musei - CAM')],\n",
       " [('stepIndexNumber', '7'),\n",
       "  ('siteName', 'Collezione privata Safilo'),\n",
       "  ('siteLat', '45.414833333333334'),\n",
       "  ('siteLong', '11.928894444444444')],\n",
       " [('stepIndexNumber', '8'),\n",
       "  ('siteName', 'Esapolis'),\n",
       "  ('siteLat', '45.39771944444444'),\n",
       "  ('siteLong', '11.834161111111111')],\n",
       " [('stepIndexNumber', '9'),\n",
       "  ('siteName', 'Museo veneto del giocattolo'),\n",
       "  ('siteLat', '45.37021388888889'),\n",
       "  ('siteLong', '11.830047222222221')],\n",
       " [('stepIndexNumber', '10'),\n",
       "  ('siteName', 'Museo antoniano'),\n",
       "  ('siteLat', '45.40136111111111'),\n",
       "  ('siteLong', '11.880069444444445')],\n",
       " [('stepIndexNumber', '11'),\n",
       "  ('siteName', 'Museo del precinema'),\n",
       "  ('siteLat', '45.40001111111111'),\n",
       "  ('siteLong', '11.875761111111112')],\n",
       " [('stepIndexNumber', '12'),\n",
       "  ('siteName', \"Museo dell'Educazione\"),\n",
       "  ('siteLat', '45.40576111111111'),\n",
       "  ('siteLong', '11.873130555555557')],\n",
       " [('stepIndexNumber', '13'), ('siteName', 'Museo di Antropologia (Padova)')],\n",
       " [('stepIndexNumber', '14'),\n",
       "  ('siteName', \"Museo di geografia dell'Università di Padova\"),\n",
       "  ('siteLat', '45.40496944444444'),\n",
       "  ('siteLong', '11.879111111111111')],\n",
       " [('stepIndexNumber', '15'),\n",
       "  ('siteName', \"Museo di storia della fisica dell'Università di Padova\"),\n",
       "  ('siteLat', '45.41043055555556'),\n",
       "  ('siteLong', '11.88576111111111')]]"
      ]
     },
     "execution_count": 6,
     "metadata": {},
     "output_type": "execute_result"
    }
   ],
   "source": [
    "tourName = \"Tour 1\"\n",
    "query('''\n",
    "SELECT ?stepIndexNumber ?siteName ?siteLat ?siteLong WHERE {\n",
    "    ?tour a pgt:Tour;\n",
    "          sdo:name \"''' + tourName + '''\";\n",
    "\t      pgt:steps ?stepNode .\n",
    "    ?stepNode ?stepIndex ?site .\n",
    "\n",
    "    BIND (STRLEN(\"http://www.w3.org/1999/02/22-rdf-syntax-ns#_\") AS ?prefixLength)\n",
    "    BIND (xsd:integer(SUBSTR(xsd:string(?stepIndex),?prefixLength + 1)) AS ?stepIndexNumber).\n",
    "\n",
    "    OPTIONAL{ ?site sdo:name ?siteName. }\n",
    "    OPTIONAL{ ?site geo:lat  ?siteLat.  }\n",
    "    OPTIONAL{ ?site geo:long ?siteLong. }\n",
    "\n",
    "\n",
    "} ORDER BY ?stepIndexNumber\n",
    "\n",
    "''')\n"
   ]
  },
  {
   "cell_type": "markdown",
   "metadata": {},
   "source": [
    "## 2 - Check for missing information\n",
    "\n",
    "In the previous query, we noticed some data is missing from a bunch of cultural sites. What if we want to check for missing data or orphan nodes?\n",
    "\n",
    "We may do this via sparQL, and use the `UNION` keyword to get all the errors at once."
   ]
  },
  {
   "cell_type": "code",
   "execution_count": 7,
   "metadata": {},
   "outputs": [
    {
     "name": "stdout",
     "output_type": "stream",
     "text": [
      "184\n"
     ]
    },
    {
     "data": {
      "text/plain": [
       "[[('error', 'Missing geo data'), ('entity', 'pgt:SITE63')],\n",
       " [('error', 'Missing geo data'), ('entity', 'pgt:SITE41')],\n",
       " [('error', 'Missing geo data'), ('entity', 'pgt:SITE45')],\n",
       " [('error', 'Missing geo data'), ('entity', 'pgt:SITE13')],\n",
       " [('error', 'Missing geo data'), ('entity', 'pgt:SITE6')],\n",
       " [('error', 'Missing geo data'), ('entity', 'pgt:SITEsq3')],\n",
       " [('error', 'Missing geo data'), ('entity', 'pgt:SITE105')],\n",
       " [('error', 'Missing geo data'), ('entity', 'pgt:SITE106')],\n",
       " [('error', 'Missing geo data'), ('entity', 'pgt:SITE108')],\n",
       " [('error', 'Missing geo data'), ('entity', 'pgt:SITE110')],\n",
       " [('error', 'Missing geo data'), ('entity', 'pgt:SITE112')],\n",
       " [('error', 'Missing geo data'), ('entity', 'pgt:SITE114')],\n",
       " [('error', 'Missing geo data'), ('entity', 'pgt:SITE116')],\n",
       " [('error', 'Missing geo data'), ('entity', 'pgt:SITE117')],\n",
       " [('error', 'Missing geo data'), ('entity', 'pgt:SITE119')],\n",
       " [('error', 'Missing geo data'), ('entity', 'pgt:SITE133')],\n",
       " [('error', 'Missing geo data'), ('entity', 'pgt:SITE134')],\n",
       " [('error', 'Missing geo data'), ('entity', 'pgt:SITE135')],\n",
       " [('error', 'Missing geo data'), ('entity', 'pgt:SITE136')],\n",
       " [('error', 'Missing geo data'), ('entity', 'pgt:SITE137')],\n",
       " [('error', 'Missing geo data'), ('entity', 'pgt:SITE138')],\n",
       " [('error', 'Missing geo data'), ('entity', 'pgt:SITE139')],\n",
       " [('error', 'Missing geo data'), ('entity', 'pgt:SITE145')],\n",
       " [('error', 'Missing geo data'), ('entity', 'pgt:SITE22')],\n",
       " [('error', 'Missing geo data'), ('entity', 'pgt:SITE23')],\n",
       " [('error', 'Missing geo data'), ('entity', 'pgt:SITE25')],\n",
       " [('error', 'Missing geo data'), ('entity', 'pgt:SITE26')],\n",
       " [('error', 'Missing geo data'), ('entity', 'pgt:SITE27')],\n",
       " [('error', 'Missing geo data'), ('entity', 'pgt:SITE31')],\n",
       " [('error', 'Missing geo data'), ('entity', 'pgt:SITE34')],\n",
       " [('error', 'Missing geo data'), ('entity', 'pgt:SITE37')],\n",
       " [('error', 'Missing geo data'), ('entity', 'pgt:SITE50')],\n",
       " [('error', 'Missing geo data'), ('entity', 'pgt:SITE59')],\n",
       " [('error', 'Missing geo data'), ('entity', 'pgt:SITE64')],\n",
       " [('error', 'Missing geo data'), ('entity', 'pgt:SITE65')],\n",
       " [('error', 'Missing geo data'), ('entity', 'pgt:SITE69')],\n",
       " [('error', 'Missing geo data'), ('entity', 'pgt:SITE82')],\n",
       " [('error', 'Missing geo data'), ('entity', 'pgt:SITE85')],\n",
       " [('error', 'Missing geo data'), ('entity', 'pgt:SITEsq1')],\n",
       " [('error', 'Missing CulturalSiteCategory'), ('entity', 'pgt:SITE63')],\n",
       " [('error', 'Missing CulturalSiteCategory'), ('entity', 'pgt:SITE41')],\n",
       " [('error', 'Missing CulturalSiteCategory'), ('entity', 'pgt:SITE43')],\n",
       " [('error', 'Missing CulturalSiteCategory'), ('entity', 'pgt:SITE45')],\n",
       " [('error', 'Missing CulturalSiteCategory'), ('entity', 'pgt:SITE47')],\n",
       " [('error', 'Missing CulturalSiteCategory'), ('entity', 'pgt:SITE10')],\n",
       " [('error', 'Missing CulturalSiteCategory'), ('entity', 'pgt:SITE11')],\n",
       " [('error', 'Missing CulturalSiteCategory'), ('entity', 'pgt:SITE12')],\n",
       " [('error', 'Missing CulturalSiteCategory'), ('entity', 'pgt:SITE13')],\n",
       " [('error', 'Missing CulturalSiteCategory'), ('entity', 'pgt:SITE14')],\n",
       " [('error', 'Missing CulturalSiteCategory'), ('entity', 'pgt:SITE15')],\n",
       " [('error', 'Missing CulturalSiteCategory'), ('entity', 'pgt:SITE5')],\n",
       " [('error', 'Missing CulturalSiteCategory'), ('entity', 'pgt:SITE6')],\n",
       " [('error', 'Missing CulturalSiteCategory'), ('entity', 'pgt:SITE7')],\n",
       " [('error', 'Missing CulturalSiteCategory'), ('entity', 'pgt:SITE8')],\n",
       " [('error', 'Missing CulturalSiteCategory'), ('entity', 'pgt:SITE9')],\n",
       " [('error', 'Missing CulturalSiteCategory'), ('entity', 'pgt:SITE100')],\n",
       " [('error', 'Missing CulturalSiteCategory'), ('entity', 'pgt:SITE101')],\n",
       " [('error', 'Missing CulturalSiteCategory'), ('entity', 'pgt:SITE102')],\n",
       " [('error', 'Missing CulturalSiteCategory'), ('entity', 'pgt:SITE103')],\n",
       " [('error', 'Missing CulturalSiteCategory'), ('entity', 'pgt:SITE104')],\n",
       " [('error', 'Missing CulturalSiteCategory'), ('entity', 'pgt:SITE105')],\n",
       " [('error', 'Missing CulturalSiteCategory'), ('entity', 'pgt:SITE106')],\n",
       " [('error', 'Missing CulturalSiteCategory'), ('entity', 'pgt:SITE107')],\n",
       " [('error', 'Missing CulturalSiteCategory'), ('entity', 'pgt:SITE108')],\n",
       " [('error', 'Missing CulturalSiteCategory'), ('entity', 'pgt:SITE109')],\n",
       " [('error', 'Missing CulturalSiteCategory'), ('entity', 'pgt:SITE110')],\n",
       " [('error', 'Missing CulturalSiteCategory'), ('entity', 'pgt:SITE111')],\n",
       " [('error', 'Missing CulturalSiteCategory'), ('entity', 'pgt:SITE112')],\n",
       " [('error', 'Missing CulturalSiteCategory'), ('entity', 'pgt:SITE113')],\n",
       " [('error', 'Missing CulturalSiteCategory'), ('entity', 'pgt:SITE114')],\n",
       " [('error', 'Missing CulturalSiteCategory'), ('entity', 'pgt:SITE115')],\n",
       " [('error', 'Missing CulturalSiteCategory'), ('entity', 'pgt:SITE116')],\n",
       " [('error', 'Missing CulturalSiteCategory'), ('entity', 'pgt:SITE117')],\n",
       " [('error', 'Missing CulturalSiteCategory'), ('entity', 'pgt:SITE118')],\n",
       " [('error', 'Missing CulturalSiteCategory'), ('entity', 'pgt:SITE119')],\n",
       " [('error', 'Missing CulturalSiteCategory'), ('entity', 'pgt:SITE120')],\n",
       " [('error', 'Missing CulturalSiteCategory'), ('entity', 'pgt:SITE121')],\n",
       " [('error', 'Missing CulturalSiteCategory'), ('entity', 'pgt:SITE122')],\n",
       " [('error', 'Missing CulturalSiteCategory'), ('entity', 'pgt:SITE123')],\n",
       " [('error', 'Missing CulturalSiteCategory'), ('entity', 'pgt:SITE124')],\n",
       " [('error', 'Missing CulturalSiteCategory'), ('entity', 'pgt:SITE125')],\n",
       " [('error', 'Missing CulturalSiteCategory'), ('entity', 'pgt:SITE126')],\n",
       " [('error', 'Missing CulturalSiteCategory'), ('entity', 'pgt:SITE127')],\n",
       " [('error', 'Missing CulturalSiteCategory'), ('entity', 'pgt:SITE128')],\n",
       " [('error', 'Missing CulturalSiteCategory'), ('entity', 'pgt:SITE129')],\n",
       " [('error', 'Missing CulturalSiteCategory'), ('entity', 'pgt:SITE130')],\n",
       " [('error', 'Missing CulturalSiteCategory'), ('entity', 'pgt:SITE131')],\n",
       " [('error', 'Missing CulturalSiteCategory'), ('entity', 'pgt:SITE132')],\n",
       " [('error', 'Missing CulturalSiteCategory'), ('entity', 'pgt:SITE133')],\n",
       " [('error', 'Missing CulturalSiteCategory'), ('entity', 'pgt:SITE134')],\n",
       " [('error', 'Missing CulturalSiteCategory'), ('entity', 'pgt:SITE135')],\n",
       " [('error', 'Missing CulturalSiteCategory'), ('entity', 'pgt:SITE136')],\n",
       " [('error', 'Missing CulturalSiteCategory'), ('entity', 'pgt:SITE137')],\n",
       " [('error', 'Missing CulturalSiteCategory'), ('entity', 'pgt:SITE138')],\n",
       " [('error', 'Missing CulturalSiteCategory'), ('entity', 'pgt:SITE139')],\n",
       " [('error', 'Missing CulturalSiteCategory'), ('entity', 'pgt:SITE140')],\n",
       " [('error', 'Missing CulturalSiteCategory'), ('entity', 'pgt:SITE141')],\n",
       " [('error', 'Missing CulturalSiteCategory'), ('entity', 'pgt:SITE142')],\n",
       " [('error', 'Missing CulturalSiteCategory'), ('entity', 'pgt:SITE143')],\n",
       " [('error', 'Missing CulturalSiteCategory'), ('entity', 'pgt:SITE144')],\n",
       " [('error', 'Missing CulturalSiteCategory'), ('entity', 'pgt:SITE145')],\n",
       " [('error', 'Missing CulturalSiteCategory'), ('entity', 'pgt:SITE146')],\n",
       " [('error', 'Missing CulturalSiteCategory'), ('entity', 'pgt:SITE147')],\n",
       " [('error', 'Missing CulturalSiteCategory'), ('entity', 'pgt:SITE148')],\n",
       " [('error', 'Missing CulturalSiteCategory'), ('entity', 'pgt:SITE149')],\n",
       " [('error', 'Missing CulturalSiteCategory'), ('entity', 'pgt:SITE16')],\n",
       " [('error', 'Missing CulturalSiteCategory'), ('entity', 'pgt:SITE17')],\n",
       " [('error', 'Missing CulturalSiteCategory'), ('entity', 'pgt:SITE18')],\n",
       " [('error', 'Missing CulturalSiteCategory'), ('entity', 'pgt:SITE19')],\n",
       " [('error', 'Missing CulturalSiteCategory'), ('entity', 'pgt:SITE20')],\n",
       " [('error', 'Missing CulturalSiteCategory'), ('entity', 'pgt:SITE21')],\n",
       " [('error', 'Missing CulturalSiteCategory'), ('entity', 'pgt:SITE22')],\n",
       " [('error', 'Missing CulturalSiteCategory'), ('entity', 'pgt:SITE23')],\n",
       " [('error', 'Missing CulturalSiteCategory'), ('entity', 'pgt:SITE24')],\n",
       " [('error', 'Missing CulturalSiteCategory'), ('entity', 'pgt:SITE25')],\n",
       " [('error', 'Missing CulturalSiteCategory'), ('entity', 'pgt:SITE26')],\n",
       " [('error', 'Missing CulturalSiteCategory'), ('entity', 'pgt:SITE27')],\n",
       " [('error', 'Missing CulturalSiteCategory'), ('entity', 'pgt:SITE28')],\n",
       " [('error', 'Missing CulturalSiteCategory'), ('entity', 'pgt:SITE29')],\n",
       " [('error', 'Missing CulturalSiteCategory'), ('entity', 'pgt:SITE30')],\n",
       " [('error', 'Missing CulturalSiteCategory'), ('entity', 'pgt:SITE31')],\n",
       " [('error', 'Missing CulturalSiteCategory'), ('entity', 'pgt:SITE32')],\n",
       " [('error', 'Missing CulturalSiteCategory'), ('entity', 'pgt:SITE33')],\n",
       " [('error', 'Missing CulturalSiteCategory'), ('entity', 'pgt:SITE34')],\n",
       " [('error', 'Missing CulturalSiteCategory'), ('entity', 'pgt:SITE35')],\n",
       " [('error', 'Missing CulturalSiteCategory'), ('entity', 'pgt:SITE36')],\n",
       " [('error', 'Missing CulturalSiteCategory'), ('entity', 'pgt:SITE37')],\n",
       " [('error', 'Missing CulturalSiteCategory'), ('entity', 'pgt:SITE38')],\n",
       " [('error', 'Missing CulturalSiteCategory'), ('entity', 'pgt:SITE39')],\n",
       " [('error', 'Missing CulturalSiteCategory'), ('entity', 'pgt:SITE40')],\n",
       " [('error', 'Missing CulturalSiteCategory'), ('entity', 'pgt:SITE42')],\n",
       " [('error', 'Missing CulturalSiteCategory'), ('entity', 'pgt:SITE44')],\n",
       " [('error', 'Missing CulturalSiteCategory'), ('entity', 'pgt:SITE46')],\n",
       " [('error', 'Missing CulturalSiteCategory'), ('entity', 'pgt:SITE48')],\n",
       " [('error', 'Missing CulturalSiteCategory'), ('entity', 'pgt:SITE49')],\n",
       " [('error', 'Missing CulturalSiteCategory'), ('entity', 'pgt:SITE50')],\n",
       " [('error', 'Missing CulturalSiteCategory'), ('entity', 'pgt:SITE51')],\n",
       " [('error', 'Missing CulturalSiteCategory'), ('entity', 'pgt:SITE52')],\n",
       " [('error', 'Missing CulturalSiteCategory'), ('entity', 'pgt:SITE53')],\n",
       " [('error', 'Missing CulturalSiteCategory'), ('entity', 'pgt:SITE54')],\n",
       " [('error', 'Missing CulturalSiteCategory'), ('entity', 'pgt:SITE55')],\n",
       " [('error', 'Missing CulturalSiteCategory'), ('entity', 'pgt:SITE56')],\n",
       " [('error', 'Missing CulturalSiteCategory'), ('entity', 'pgt:SITE57')],\n",
       " [('error', 'Missing CulturalSiteCategory'), ('entity', 'pgt:SITE58')],\n",
       " [('error', 'Missing CulturalSiteCategory'), ('entity', 'pgt:SITE59')],\n",
       " [('error', 'Missing CulturalSiteCategory'), ('entity', 'pgt:SITE60')],\n",
       " [('error', 'Missing CulturalSiteCategory'), ('entity', 'pgt:SITE61')],\n",
       " [('error', 'Missing CulturalSiteCategory'), ('entity', 'pgt:SITE62')],\n",
       " [('error', 'Missing CulturalSiteCategory'), ('entity', 'pgt:SITE64')],\n",
       " [('error', 'Missing CulturalSiteCategory'), ('entity', 'pgt:SITE65')],\n",
       " [('error', 'Missing CulturalSiteCategory'), ('entity', 'pgt:SITE66')],\n",
       " [('error', 'Missing CulturalSiteCategory'), ('entity', 'pgt:SITE67')],\n",
       " [('error', 'Missing CulturalSiteCategory'), ('entity', 'pgt:SITE68')],\n",
       " [('error', 'Missing CulturalSiteCategory'), ('entity', 'pgt:SITE69')],\n",
       " [('error', 'Missing CulturalSiteCategory'), ('entity', 'pgt:SITE70')],\n",
       " [('error', 'Missing CulturalSiteCategory'), ('entity', 'pgt:SITE71')],\n",
       " [('error', 'Missing CulturalSiteCategory'), ('entity', 'pgt:SITE72')],\n",
       " [('error', 'Missing CulturalSiteCategory'), ('entity', 'pgt:SITE73')],\n",
       " [('error', 'Missing CulturalSiteCategory'), ('entity', 'pgt:SITE74')],\n",
       " [('error', 'Missing CulturalSiteCategory'), ('entity', 'pgt:SITE75')],\n",
       " [('error', 'Missing CulturalSiteCategory'), ('entity', 'pgt:SITE76')],\n",
       " [('error', 'Missing CulturalSiteCategory'), ('entity', 'pgt:SITE77')],\n",
       " [('error', 'Missing CulturalSiteCategory'), ('entity', 'pgt:SITE78')],\n",
       " [('error', 'Missing CulturalSiteCategory'), ('entity', 'pgt:SITE79')],\n",
       " [('error', 'Missing CulturalSiteCategory'), ('entity', 'pgt:SITE80')],\n",
       " [('error', 'Missing CulturalSiteCategory'), ('entity', 'pgt:SITE81')],\n",
       " [('error', 'Missing CulturalSiteCategory'), ('entity', 'pgt:SITE82')],\n",
       " [('error', 'Missing CulturalSiteCategory'), ('entity', 'pgt:SITE83')],\n",
       " [('error', 'Missing CulturalSiteCategory'), ('entity', 'pgt:SITE84')],\n",
       " [('error', 'Missing CulturalSiteCategory'), ('entity', 'pgt:SITE85')],\n",
       " [('error', 'Missing CulturalSiteCategory'), ('entity', 'pgt:SITE86')],\n",
       " [('error', 'Missing CulturalSiteCategory'), ('entity', 'pgt:SITE87')],\n",
       " [('error', 'Missing CulturalSiteCategory'), ('entity', 'pgt:SITE88')],\n",
       " [('error', 'Missing CulturalSiteCategory'), ('entity', 'pgt:SITE89')],\n",
       " [('error', 'Missing CulturalSiteCategory'), ('entity', 'pgt:SITE90')],\n",
       " [('error', 'Missing CulturalSiteCategory'), ('entity', 'pgt:SITE91')],\n",
       " [('error', 'Missing CulturalSiteCategory'), ('entity', 'pgt:SITE92')],\n",
       " [('error', 'Missing CulturalSiteCategory'), ('entity', 'pgt:SITE93')],\n",
       " [('error', 'Missing CulturalSiteCategory'), ('entity', 'pgt:SITE94')],\n",
       " [('error', 'Missing CulturalSiteCategory'), ('entity', 'pgt:SITE95')],\n",
       " [('error', 'Missing CulturalSiteCategory'), ('entity', 'pgt:SITE96')],\n",
       " [('error', 'Missing CulturalSiteCategory'), ('entity', 'pgt:SITE97')],\n",
       " [('error', 'Missing CulturalSiteCategory'), ('entity', 'pgt:SITE98')],\n",
       " [('error', 'Missing CulturalSiteCategory'), ('entity', 'pgt:SITE99')]]"
      ]
     },
     "execution_count": 7,
     "metadata": {},
     "output_type": "execute_result"
    }
   ],
   "source": [
    "query('''\n",
    "SELECT DISTINCT ?error ?entity WHERE {\n",
    "\n",
    "\n",
    "    { \n",
    "        SELECT ?error (?site AS ?entity)  WHERE { \n",
    "            BIND( \"Missing geo data\" as ?error)\n",
    "            ?site a pgt:CulturalSite .\n",
    "            FILTER NOT EXISTS {\n",
    "                ?site geo:lat ?lat;\n",
    "                    geo:long ?long.\n",
    "            }\n",
    "        }\n",
    "    } UNION { \n",
    "        SELECT ?error (?site AS ?entity)  WHERE { \n",
    "            BIND( \"Missing CulturalSiteCategory\" as ?error)\n",
    "            ?site a pgt:CulturalSite .\n",
    "            FILTER NOT EXISTS {\n",
    "                ?artwork pgt:hasSite ?site;\n",
    "            }\n",
    "        }\n",
    "    } UNION { \n",
    "        SELECT ?error (?artwork AS ?entity)  WHERE { \n",
    "            BIND( \"Missing CulturalSite\" as ?error)\n",
    "            ?artwork a pgt:Artwork .\n",
    "            FILTER NOT EXISTS {\n",
    "                ?artwork pgt:hasSite ?site;\n",
    "            }\n",
    "        }\n",
    "    } \n",
    "\n",
    "\n",
    "}\n",
    "''')\n",
    "\n"
   ]
  },
  {
   "cell_type": "markdown",
   "metadata": {},
   "source": [
    "## 3 - Get sites by number of artworks\n",
    "\n",
    "Now we would like to create a new tour. In order to do so, we would like to see which sites have associated artwork, so we may pick meaningful sites.\n"
   ]
  },
  {
   "cell_type": "code",
   "execution_count": 64,
   "metadata": {},
   "outputs": [
    {
     "name": "stdout",
     "output_type": "stream",
     "text": [
      "The operation failed QueryBadFormed: A bad request has been sent to the endpoint: probably the SPARQL query is badly formed. \n",
      "\n",
      "Response:\n",
      "b'Missing parameter: query'\n"
     ]
    },
    {
     "ename": "TypeError",
     "evalue": "'NoneType' object is not iterable",
     "output_type": "error",
     "traceback": [
      "\u001b[0;31m---------------------------------------------------------------------------\u001b[0m",
      "\u001b[0;31mTypeError\u001b[0m                                 Traceback (most recent call last)",
      "\u001b[0;32m/tmp/ipykernel_49373/1446292720.py\u001b[0m in \u001b[0;36m<module>\u001b[0;34m\u001b[0m\n\u001b[1;32m      3\u001b[0m \u001b[0mtourSteps\u001b[0m \u001b[0;34m=\u001b[0m \u001b[0;34m\"[1, 2, 3]\"\u001b[0m\u001b[0;34m\u001b[0m\u001b[0;34m\u001b[0m\u001b[0m\n\u001b[1;32m      4\u001b[0m \u001b[0;34m\u001b[0m\u001b[0m\n\u001b[0;32m----> 5\u001b[0;31m query('''\n\u001b[0m\u001b[1;32m      6\u001b[0m INSERT { \n\u001b[1;32m      7\u001b[0m     \u001b[0mpgt\u001b[0m\u001b[0;34m:\u001b[0m\u001b[0mTOUR233\u001b[0m \u001b[0ma\u001b[0m \u001b[0mpgt\u001b[0m\u001b[0;34m:\u001b[0m\u001b[0mTour\u001b[0m\u001b[0;34m.\u001b[0m\u001b[0;34m\u001b[0m\u001b[0;34m\u001b[0m\u001b[0m\n",
      "\u001b[0;32m/tmp/ipykernel_49373/4263647052.py\u001b[0m in \u001b[0;36mquery\u001b[0;34m(queryString, replacePrefixes)\u001b[0m\n\u001b[1;32m      9\u001b[0m     \u001b[0mqueryResults\u001b[0m \u001b[0;34m=\u001b[0m \u001b[0mrun_query\u001b[0m\u001b[0;34m(\u001b[0m\u001b[0mqueryString\u001b[0m\u001b[0;34m)\u001b[0m\u001b[0;34m\u001b[0m\u001b[0;34m\u001b[0m\u001b[0m\n\u001b[1;32m     10\u001b[0m     \u001b[0;32mif\u001b[0m\u001b[0;34m(\u001b[0m\u001b[0mreplacePrefixes\u001b[0m\u001b[0;34m)\u001b[0m\u001b[0;34m:\u001b[0m\u001b[0;34m\u001b[0m\u001b[0;34m\u001b[0m\u001b[0m\n\u001b[0;32m---> 11\u001b[0;31m         \u001b[0;32mfor\u001b[0m \u001b[0mqueryIndex\u001b[0m\u001b[0;34m,\u001b[0m \u001b[0mqueryResultRaw\u001b[0m \u001b[0;32min\u001b[0m \u001b[0menumerate\u001b[0m\u001b[0;34m(\u001b[0m\u001b[0mqueryResults\u001b[0m\u001b[0;34m)\u001b[0m\u001b[0;34m:\u001b[0m\u001b[0;34m\u001b[0m\u001b[0;34m\u001b[0m\u001b[0m\n\u001b[0m\u001b[1;32m     12\u001b[0m             \u001b[0;32mfor\u001b[0m \u001b[0msubQueryIndex\u001b[0m\u001b[0;34m,\u001b[0m \u001b[0msubQueryResultRaw\u001b[0m \u001b[0;32min\u001b[0m \u001b[0menumerate\u001b[0m\u001b[0;34m(\u001b[0m\u001b[0mqueryResultRaw\u001b[0m\u001b[0;34m)\u001b[0m\u001b[0;34m:\u001b[0m\u001b[0;34m\u001b[0m\u001b[0;34m\u001b[0m\u001b[0m\n\u001b[1;32m     13\u001b[0m                 \u001b[0mqueryResult\u001b[0m \u001b[0;34m=\u001b[0m \u001b[0mqueryResultRaw\u001b[0m\u001b[0;34m[\u001b[0m\u001b[0msubQueryIndex\u001b[0m\u001b[0;34m]\u001b[0m\u001b[0;34m[\u001b[0m\u001b[0;36m1\u001b[0m\u001b[0;34m]\u001b[0m\u001b[0;34m\u001b[0m\u001b[0;34m\u001b[0m\u001b[0m\n",
      "\u001b[0;31mTypeError\u001b[0m: 'NoneType' object is not iterable"
     ]
    }
   ],
   "source": [
    "query('''\n",
    "SELECT DISTINCT ?error ?entity WHERE {\n",
    "\n",
    "\n",
    "}\n",
    "''')"
   ]
  },
  {
   "cell_type": "markdown",
   "metadata": {},
   "source": [
    "## 4 - Get sites by distance from a point"
   ]
  },
  {
   "cell_type": "code",
   "execution_count": null,
   "metadata": {},
   "outputs": [],
   "source": []
  },
  {
   "cell_type": "markdown",
   "metadata": {},
   "source": [
    "## 5 - Get sites by artwork material"
   ]
  },
  {
   "cell_type": "code",
   "execution_count": null,
   "metadata": {},
   "outputs": [],
   "source": []
  },
  {
   "cell_type": "markdown",
   "metadata": {},
   "source": [
    "## 6 - Generate a new tour\n",
    "\n",
    "This query will generate a tour given the name, description and visited sites (as a list of names of cultural sites).\n",
    "\n",
    "This is more a proof of concept than an actual useful query, since it would make way more sense to use a programming language to generate part of the query (for example, the UUID could be generated in Python instead) instead of a pure sparQL call.\n",
    "\n",
    "You may safely run this query multiple times: thanks to the `BIND` + `MINUS` keywords, the insertion is skipped if a tour with the same name already exists."
   ]
  },
  {
   "cell_type": "markdown",
   "metadata": {},
   "source": [
    "```\n",
    "PREFIX pgt: <https://padovagrandtour.github.io/entitites#>\n",
    "PREFIX rdf: <http://www.w3.org/1999/02/22-rdf-syntax-ns#>\n",
    "PREFIX sdo: <https://schema.org/>\n",
    "PREFIX owl: <http://www.w3.org/2002/07/owl#>\n",
    "INSERT { \n",
    "    ?tourID a pgt:Tour.\n",
    "    ?tourStepsID a rdf:Seq.\n",
    "\n",
    "    ?tourID pgt:steps ?tourStepsID.\n",
    "    ?tourID sdo:name ?tourName.\n",
    "    ?tourID sdo:description ?tourDescription.\n",
    "    \n",
    "    ?tourStepsID ?isStep ?stepSite.\n",
    "\n",
    "} WHERE { \n",
    "    BIND(\"New Tour2\" as ?tourName).\n",
    "    BIND(\"Tour descriptionssss\" as ?tourDescription).\n",
    "    MINUS { \n",
    "        ?checkingTour a pgt:Tour;\n",
    "           sdo:name ?tourName.\n",
    "    }.\n",
    "    BIND(StrUUID() AS ?uuidCode) . \n",
    "    BIND(URI(CONCAT(\"https://padovagrandtour.github.io/entitites#TOUR-\", ?uuidCode)) AS ?tourID).\n",
    "    BIND(URI(CONCAT(\"https://padovagrandtour.github.io/entitites#TOURSTEPS-\", ?uuidCode)) AS ?tourStepsID).\n",
    "    \n",
    "    \n",
    "    VALUES (?stepIndex ?stepName) {\n",
    "        (1 \"Chiesa di San Bonaventura delle Eremite\")\n",
    "        (2 \"Battistero di Padova\")\n",
    "    }\n",
    "    \n",
    "    BIND(URI(CONCAT(\"http://www.w3.org/1999/02/22-rdf-syntax-ns#_\", STR(?stepIndex))) AS ?isStep).\n",
    "    ?stepSite a pgt:CulturalSite;\n",
    "          sdo:name ?stepName.\n",
    "\n",
    "\n",
    "\n",
    "}\n",
    "```"
   ]
  },
  {
   "cell_type": "code",
   "execution_count": null,
   "metadata": {},
   "outputs": [],
   "source": [
    "tourName = \"Generated Tour\"\n",
    "tourDescription = \"Description of generated tour\"\n",
    "\n",
    "# It would be nice to avoid manual index assigning of sites' indexes,\n",
    "# however, this is not possible, since sparQL lists are always unordered ones.\n",
    "tourSteps = '''\n",
    "    (1 \"\")\n",
    "\n",
    "'''\n",
    "\n",
    "query('''\n",
    "\n",
    "\n",
    "''')"
   ]
  },
  {
   "cell_type": "markdown",
   "metadata": {},
   "source": [
    "## 7 - Get a tour preview\n",
    "\n",
    "Getting some random artworks of what we are going to see in a tour."
   ]
  },
  {
   "cell_type": "code",
   "execution_count": 9,
   "metadata": {},
   "outputs": [
    {
     "name": "stdout",
     "output_type": "stream",
     "text": [
      "The operation failed QueryBadFormed: A bad request has been sent to the endpoint: probably the SPARQL query is badly formed. \n",
      "\n",
      "Response:\n",
      "b'MALFORMED QUERY: Encountered \" <PNAME_LN> \"sdo:image \"\" at line 22, column 14.\\nWas expecting one of:\\n    \"{\" ...\\n    \"}\" ...\\n    \";\" ...\\n    \",\" ...\\n    \".\" ...\\n    \"optional\" ...\\n    \"graph\" ...\\n    \"minus\" ...\\n    \"filter\" ...\\n    \"bind\" ...\\n    \"service\" ...\\n    \"values\" ...\\n    \".\" ...\\n    '\n"
     ]
    },
    {
     "ename": "TypeError",
     "evalue": "'NoneType' object is not iterable",
     "output_type": "error",
     "traceback": [
      "\u001b[0;31m---------------------------------------------------------------------------\u001b[0m",
      "\u001b[0;31mTypeError\u001b[0m                                 Traceback (most recent call last)",
      "\u001b[0;32m/tmp/ipykernel_2777/427218326.py\u001b[0m in \u001b[0;36m<module>\u001b[0;34m\u001b[0m\n\u001b[0;32m----> 1\u001b[0;31m query('''\n\u001b[0m\u001b[1;32m      2\u001b[0m SELECT ?siteName ?artworkName ?artworkDescription ?artworkImage ?artworkURL WHERE {\n\u001b[1;32m      3\u001b[0m     \u001b[0;31m?\u001b[0m\u001b[0mtour\u001b[0m \u001b[0ma\u001b[0m \u001b[0mpgt\u001b[0m\u001b[0;34m:\u001b[0m\u001b[0mTour\u001b[0m\u001b[0;34m;\u001b[0m\u001b[0;34m\u001b[0m\u001b[0;34m\u001b[0m\u001b[0m\n\u001b[1;32m      4\u001b[0m           \u001b[0msdo\u001b[0m\u001b[0;34m:\u001b[0m\u001b[0mname\u001b[0m \u001b[0;34m\"Tour 1\"\u001b[0m\u001b[0;34m;\u001b[0m\u001b[0;34m\u001b[0m\u001b[0;34m\u001b[0m\u001b[0m\n\u001b[1;32m      5\u001b[0m               \u001b[0mpgt\u001b[0m\u001b[0;34m:\u001b[0m\u001b[0msteps\u001b[0m\u001b[0;31m \u001b[0m\u001b[0;31m?\u001b[0m\u001b[0mstepNode\u001b[0m \u001b[0;34m.\u001b[0m\u001b[0;34m\u001b[0m\u001b[0;34m\u001b[0m\u001b[0m\n",
      "\u001b[0;32m/tmp/ipykernel_2777/4263647052.py\u001b[0m in \u001b[0;36mquery\u001b[0;34m(queryString, replacePrefixes)\u001b[0m\n\u001b[1;32m      9\u001b[0m     \u001b[0mqueryResults\u001b[0m \u001b[0;34m=\u001b[0m \u001b[0mrun_query\u001b[0m\u001b[0;34m(\u001b[0m\u001b[0mqueryString\u001b[0m\u001b[0;34m)\u001b[0m\u001b[0;34m\u001b[0m\u001b[0;34m\u001b[0m\u001b[0m\n\u001b[1;32m     10\u001b[0m     \u001b[0;32mif\u001b[0m\u001b[0;34m(\u001b[0m\u001b[0mreplacePrefixes\u001b[0m\u001b[0;34m)\u001b[0m\u001b[0;34m:\u001b[0m\u001b[0;34m\u001b[0m\u001b[0;34m\u001b[0m\u001b[0m\n\u001b[0;32m---> 11\u001b[0;31m         \u001b[0;32mfor\u001b[0m \u001b[0mqueryIndex\u001b[0m\u001b[0;34m,\u001b[0m \u001b[0mqueryResultRaw\u001b[0m \u001b[0;32min\u001b[0m \u001b[0menumerate\u001b[0m\u001b[0;34m(\u001b[0m\u001b[0mqueryResults\u001b[0m\u001b[0;34m)\u001b[0m\u001b[0;34m:\u001b[0m\u001b[0;34m\u001b[0m\u001b[0;34m\u001b[0m\u001b[0m\n\u001b[0m\u001b[1;32m     12\u001b[0m             \u001b[0;32mfor\u001b[0m \u001b[0msubQueryIndex\u001b[0m\u001b[0;34m,\u001b[0m \u001b[0msubQueryResultRaw\u001b[0m \u001b[0;32min\u001b[0m \u001b[0menumerate\u001b[0m\u001b[0;34m(\u001b[0m\u001b[0mqueryResultRaw\u001b[0m\u001b[0;34m)\u001b[0m\u001b[0;34m:\u001b[0m\u001b[0;34m\u001b[0m\u001b[0;34m\u001b[0m\u001b[0m\n\u001b[1;32m     13\u001b[0m                 \u001b[0mqueryResult\u001b[0m \u001b[0;34m=\u001b[0m \u001b[0mqueryResultRaw\u001b[0m\u001b[0;34m[\u001b[0m\u001b[0msubQueryIndex\u001b[0m\u001b[0;34m]\u001b[0m\u001b[0;34m[\u001b[0m\u001b[0;36m1\u001b[0m\u001b[0;34m]\u001b[0m\u001b[0;34m\u001b[0m\u001b[0;34m\u001b[0m\u001b[0m\n",
      "\u001b[0;31mTypeError\u001b[0m: 'NoneType' object is not iterable"
     ]
    }
   ],
   "source": [
    "query('''\n",
    "SELECT ?siteName ?artworkName ?artworkDescription ?artworkImage ?artworkURL WHERE {\n",
    "    ?tour a pgt:Tour;\n",
    "          sdo:name \"Tour 1\";\n",
    "\t      pgt:steps ?stepNode .\n",
    "          \n",
    "    ?stepNode ?stepIndex ?site .\n",
    "\n",
    "    ?site sdo:name ?siteName .\n",
    "\n",
    "    ?artwork pgt:hasSite ?site;\n",
    "             sdo:image ?artworkImage;\n",
    "             sdo:name ?artworkName;\n",
    "             sdo:url ?artworkURL;\n",
    "             sdo:description ?artworkDescription.\n",
    "\n",
    "} ORDER BY RAND() LIMIT 10\n",
    "''')"
   ]
  },
  {
   "cell_type": "markdown",
   "metadata": {},
   "source": [
    "## 8 - Get tour recap\n",
    "\n",
    "In this query we get some about the whole tour, such as the total travelled distance and the average year of the artwork we are going to see."
   ]
  },
  {
   "cell_type": "code",
   "execution_count": null,
   "metadata": {},
   "outputs": [],
   "source": []
  },
  {
   "cell_type": "markdown",
   "metadata": {},
   "source": [
    "## 9 -"
   ]
  },
  {
   "cell_type": "code",
   "execution_count": null,
   "metadata": {},
   "outputs": [],
   "source": []
  },
  {
   "cell_type": "markdown",
   "metadata": {},
   "source": [
    "## 10 -"
   ]
  },
  {
   "cell_type": "code",
   "execution_count": null,
   "metadata": {},
   "outputs": [],
   "source": []
  }
 ],
 "metadata": {
  "kernelspec": {
   "display_name": "Python 3.10.6 64-bit",
   "language": "python",
   "name": "python3"
  },
  "language_info": {
   "codemirror_mode": {
    "name": "ipython",
    "version": 3
   },
   "file_extension": ".py",
   "mimetype": "text/x-python",
   "name": "python",
   "nbconvert_exporter": "python",
   "pygments_lexer": "ipython3",
   "version": "3.10.6"
  },
  "orig_nbformat": 4,
  "vscode": {
   "interpreter": {
    "hash": "916dbcbb3f70747c44a77c7bcd40155683ae19c65e1c03b4aa3499c5328201f1"
   }
  }
 },
 "nbformat": 4,
 "nbformat_minor": 2
}
