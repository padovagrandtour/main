{
 "cells": [
  {
   "cell_type": "markdown",
   "metadata": {},
   "source": [
    "# Padova Grand Tour - Queries\n",
    "\n",
    "This notebook will provide ten insightful queries about our data. Get started by starting GraphDB with `docker compose up --force-recreate`.\n"
   ]
  },
  {
   "cell_type": "markdown",
   "metadata": {},
   "source": [
    "Sparql wrapper (copy and pasted from the Individual Project's notebooks):"
   ]
  },
  {
   "cell_type": "code",
   "execution_count": 126,
   "metadata": {},
   "outputs": [],
   "source": [
    "\n",
    "from SPARQLWrapper import SPARQLWrapper, JSON\n",
    "\n",
    "# Taken from `data/ttlData/ontology.ttl`\n",
    "prefixString = \"\"\"\n",
    "PREFIX owl: <http://www.w3.org/2002/07/owl#> \n",
    "PREFIX pgt: <https://padovagrandtour.github.io/entitites#> \n",
    "PREFIX rdf: <http://www.w3.org/1999/02/22-rdf-syntax-ns#> \n",
    "PREFIX xml: <http://www.w3.org/XML/1998/namespace> \n",
    "PREFIX xsd: <http://www.w3.org/2001/XMLSchema#> \n",
    "PREFIX rdfs: <http://www.w3.org/2000/01/rdf-schema#> \n",
    "\"\"\"\n",
    "\n",
    "# select and construct queries\n",
    "def run_query(queryString):\n",
    "    to_run = prefixString + \"\\n\" + queryString\n",
    "\n",
    "    # Our local endpoint, the repo name is defined in `data/graphdb-repo.ttl` \n",
    "    sparql = SPARQLWrapper(\"http://localhost:7210/repositories/pgt\") \n",
    "    sparql.setTimeout(300)\n",
    "    sparql.setReturnFormat(JSON)\n",
    "    sparql.setQuery(to_run)\n",
    "\n",
    "    try :\n",
    "        results = sparql.query()\n",
    "        json_results = results.convert()\n",
    "        if len(json_results['results']['bindings'])==0:\n",
    "            print(\"Empty\")\n",
    "            return []\n",
    "        array = []\n",
    "        for bindings in json_results['results']['bindings']:\n",
    "            app =  [ (var, value['value'])  for var, value in bindings.items() ] \n",
    "            array.append(app)\n",
    "        print(len(array)) # Print the array length\n",
    "        return array\n",
    "\n",
    "    except Exception as e :\n",
    "        print(\"The operation failed\", e)\n",
    "    "
   ]
  },
  {
   "cell_type": "code",
   "execution_count": 127,
   "metadata": {},
   "outputs": [],
   "source": [
    "# Improved version that also handles prefixes\n",
    "mappedPrefixes = {}\n",
    "for prefix in prefixString.split('\\n'):\n",
    "    if('PREFIX' in prefix):\n",
    "        prefix = prefix.replace('PREFIX', '', 1).split(':', 1)\n",
    "        mappedPrefixes[prefix[0].strip()] = prefix[1].strip().replace('<','').replace('>','')\n",
    "\n",
    "def query(queryString, replacePrefixes=True):\n",
    "    queryResults = run_query(queryString)\n",
    "    if(replacePrefixes):\n",
    "        for queryIndex, queryResultRaw in enumerate(queryResults):\n",
    "            for subQueryIndex, subQueryResultRaw in enumerate(queryResultRaw):\n",
    "                queryResult = queryResultRaw[subQueryIndex][1]\n",
    "                for prefixName, prefixValue in mappedPrefixes.items():\n",
    "                    queryResult = queryResult.replace(prefixValue, prefixName + ':')\n",
    "\n",
    "                queryResults[queryIndex][subQueryIndex] = (queryResultRaw[subQueryIndex][0], queryResult)\n",
    "\n",
    "        return queryResults\n",
    "    else: return queryResults\n"
   ]
  },
  {
   "cell_type": "markdown",
   "metadata": {},
   "source": [
    "Check if everything works:"
   ]
  },
  {
   "cell_type": "code",
   "execution_count": 128,
   "metadata": {},
   "outputs": [
    {
     "name": "stdout",
     "output_type": "stream",
     "text": [
      "3\n"
     ]
    },
    {
     "data": {
      "text/plain": [
       "[[('s', 'http://www.w3.org/1999/02/22-rdf-syntax-ns#type'),\n",
       "  ('p', 'http://www.w3.org/1999/02/22-rdf-syntax-ns#type'),\n",
       "  ('o', 'http://www.w3.org/1999/02/22-rdf-syntax-ns#Property')],\n",
       " [('s', 'http://www.w3.org/2000/01/rdf-schema#subPropertyOf'),\n",
       "  ('p', 'http://www.w3.org/1999/02/22-rdf-syntax-ns#type'),\n",
       "  ('o', 'http://www.w3.org/1999/02/22-rdf-syntax-ns#Property')],\n",
       " [('s', 'http://www.w3.org/2000/01/rdf-schema#subPropertyOf'),\n",
       "  ('p', 'http://www.w3.org/1999/02/22-rdf-syntax-ns#type'),\n",
       "  ('o', 'http://www.w3.org/2002/07/owl#TransitiveProperty')]]"
      ]
     },
     "execution_count": 128,
     "metadata": {},
     "output_type": "execute_result"
    }
   ],
   "source": [
    "query(\"\"\"\n",
    "select distinct * {\n",
    "    ?s ?p ?o\n",
    "}\n",
    "LIMIT 3\n",
    "\"\"\", replacePrefixes=False)\n"
   ]
  },
  {
   "cell_type": "markdown",
   "metadata": {},
   "source": [
    "## 1 - Get tour elements in order\n",
    "\n",
    "\n",
    "```\n",
    "[[('stepIndex', 'rdf:_1'), ('site', 'pgt:SITE1')],\n",
    " [('stepIndex', 'rdf:_10'), ('site', 'pgt:SITE10')],\n",
    " [('stepIndex', 'rdf:_11'), ('site', 'pgt:SITE11')],\n",
    " [('stepIndex', 'rdf:_12'), ('site', 'pgt:SITE12')],\n",
    " [('stepIndex', 'rdf:_13'), ('site', 'pgt:SITE13')],\n",
    " [('stepIndex', 'rdf:_14'), ('site', 'pgt:SITE14')],\n",
    " [('stepIndex', 'rdf:_15'), ('site', 'pgt:SITE15')],\n",
    " [('stepIndex', 'rdf:_2'), ('site', 'pgt:SITE2')],\n",
    " [('stepIndex', 'rdf:_3'), ('site', 'pgt:SITE3')],\n",
    " [('stepIndex', 'rdf:_4'), ('site', 'pgt:SITE4')],\n",
    " [('stepIndex', 'rdf:_5'), ('site', 'pgt:SITE5')],\n",
    " [('stepIndex', 'rdf:_6'), ('site', 'pgt:SITE6')],\n",
    " [('stepIndex', 'rdf:_7'), ('site', 'pgt:SITE7')],\n",
    " [('stepIndex', 'rdf:_8'), ('site', 'pgt:SITE8')],\n",
    " [('stepIndex', 'rdf:_9'), ('site', 'pgt:SITE9')]]\n",
    " ```\n",
    "\n",
    " Cause has a lower lexicographical order."
   ]
  },
  {
   "cell_type": "code",
   "execution_count": 129,
   "metadata": {},
   "outputs": [
    {
     "name": "stdout",
     "output_type": "stream",
     "text": [
      "15\n"
     ]
    },
    {
     "data": {
      "text/plain": [
       "[[('stepIndex', 'rdf:_1'), ('stepIndexNumber', '1'), ('site', 'pgt:SITE1')],\n",
       " [('stepIndex', 'rdf:_2'), ('stepIndexNumber', '2'), ('site', 'pgt:SITE2')],\n",
       " [('stepIndex', 'rdf:_3'), ('stepIndexNumber', '3'), ('site', 'pgt:SITE3')],\n",
       " [('stepIndex', 'rdf:_4'), ('stepIndexNumber', '4'), ('site', 'pgt:SITE4')],\n",
       " [('stepIndex', 'rdf:_5'), ('stepIndexNumber', '5'), ('site', 'pgt:SITE5')],\n",
       " [('stepIndex', 'rdf:_6'), ('stepIndexNumber', '6'), ('site', 'pgt:SITE6')],\n",
       " [('stepIndex', 'rdf:_7'), ('stepIndexNumber', '7'), ('site', 'pgt:SITE7')],\n",
       " [('stepIndex', 'rdf:_8'), ('stepIndexNumber', '8'), ('site', 'pgt:SITE8')],\n",
       " [('stepIndex', 'rdf:_9'), ('stepIndexNumber', '9'), ('site', 'pgt:SITE9')],\n",
       " [('stepIndex', 'rdf:_10'), ('stepIndexNumber', '10'), ('site', 'pgt:SITE10')],\n",
       " [('stepIndex', 'rdf:_11'), ('stepIndexNumber', '11'), ('site', 'pgt:SITE11')],\n",
       " [('stepIndex', 'rdf:_12'), ('stepIndexNumber', '12'), ('site', 'pgt:SITE12')],\n",
       " [('stepIndex', 'rdf:_13'), ('stepIndexNumber', '13'), ('site', 'pgt:SITE13')],\n",
       " [('stepIndex', 'rdf:_14'), ('stepIndexNumber', '14'), ('site', 'pgt:SITE14')],\n",
       " [('stepIndex', 'rdf:_15'), ('stepIndexNumber', '15'), ('site', 'pgt:SITE15')]]"
      ]
     },
     "execution_count": 129,
     "metadata": {},
     "output_type": "execute_result"
    }
   ],
   "source": [
    "query(\"\"\"\n",
    "select ?stepIndex ?stepIndexNumber ?site where {\n",
    "    BIND (strlen(\"http://www.w3.org/1999/02/22-rdf-syntax-ns#_\") AS ?prefixLength)\n",
    "\tpgt:TOUR0 pgt:steps ?stepNode .\n",
    "    ?stepNode ?stepIndex ?site\n",
    "    BIND (xsd:integer(SUBSTR(xsd:string(?stepIndex),?prefixLength + 1)) AS ?stepIndexNumber)\n",
    "\n",
    "} ORDER BY ?stepIndexNumber\n",
    "\n",
    "\"\"\")\n"
   ]
  },
  {
   "cell_type": "markdown",
   "metadata": {},
   "source": [
    "## 2 -"
   ]
  },
  {
   "cell_type": "code",
   "execution_count": null,
   "metadata": {},
   "outputs": [],
   "source": []
  },
  {
   "cell_type": "markdown",
   "metadata": {},
   "source": [
    "## 3 -"
   ]
  },
  {
   "cell_type": "code",
   "execution_count": null,
   "metadata": {},
   "outputs": [],
   "source": []
  },
  {
   "cell_type": "markdown",
   "metadata": {},
   "source": [
    "## 4 -"
   ]
  },
  {
   "cell_type": "code",
   "execution_count": null,
   "metadata": {},
   "outputs": [],
   "source": []
  },
  {
   "cell_type": "markdown",
   "metadata": {},
   "source": [
    "## 5 -"
   ]
  },
  {
   "cell_type": "code",
   "execution_count": null,
   "metadata": {},
   "outputs": [],
   "source": []
  },
  {
   "cell_type": "markdown",
   "metadata": {},
   "source": [
    "## 6 -"
   ]
  },
  {
   "cell_type": "code",
   "execution_count": null,
   "metadata": {},
   "outputs": [],
   "source": []
  },
  {
   "cell_type": "markdown",
   "metadata": {},
   "source": [
    "## 7 -"
   ]
  },
  {
   "cell_type": "code",
   "execution_count": null,
   "metadata": {},
   "outputs": [],
   "source": []
  },
  {
   "cell_type": "markdown",
   "metadata": {},
   "source": [
    "## 8 -"
   ]
  },
  {
   "cell_type": "code",
   "execution_count": null,
   "metadata": {},
   "outputs": [],
   "source": []
  },
  {
   "cell_type": "markdown",
   "metadata": {},
   "source": [
    "## 9 -"
   ]
  },
  {
   "cell_type": "code",
   "execution_count": null,
   "metadata": {},
   "outputs": [],
   "source": []
  },
  {
   "cell_type": "markdown",
   "metadata": {},
   "source": [
    "## 10 -"
   ]
  },
  {
   "cell_type": "code",
   "execution_count": null,
   "metadata": {},
   "outputs": [],
   "source": []
  }
 ],
 "metadata": {
  "kernelspec": {
   "display_name": "Python 3.10.6 64-bit",
   "language": "python",
   "name": "python3"
  },
  "language_info": {
   "codemirror_mode": {
    "name": "ipython",
    "version": 3
   },
   "file_extension": ".py",
   "mimetype": "text/x-python",
   "name": "python",
   "nbconvert_exporter": "python",
   "pygments_lexer": "ipython3",
   "version": "3.10.6"
  },
  "orig_nbformat": 4,
  "vscode": {
   "interpreter": {
    "hash": "916dbcbb3f70747c44a77c7bcd40155683ae19c65e1c03b4aa3499c5328201f1"
   }
  }
 },
 "nbformat": 4,
 "nbformat_minor": 2
}
